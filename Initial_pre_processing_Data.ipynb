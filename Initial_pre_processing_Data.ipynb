{
  "nbformat": 4,
  "nbformat_minor": 0,
  "metadata": {
    "colab": {
      "name": "Initial pre-processing Data",
      "provenance": [],
      "collapsed_sections": [],
      "toc_visible": true
    },
    "kernelspec": {
      "name": "python3",
      "display_name": "Python 3"
    }
  },
  "cells": [
    {
      "cell_type": "markdown",
      "metadata": {
        "id": "MBItBsaRZI7r",
        "colab_type": "text"
      },
      "source": [
        "# Code for our inital pre-processing of data"
      ]
    },
    {
      "cell_type": "markdown",
      "metadata": {
        "id": "ocHQRkdhZQyi",
        "colab_type": "text"
      },
      "source": [
        "#### Mount the google drive to read the files\n",
        "- *(Data was stored and used from my google drive)*"
      ]
    },
    {
      "cell_type": "code",
      "metadata": {
        "id": "zXnahGE08WSR",
        "colab_type": "code",
        "outputId": "513a5d9b-3a87-4b72-afef-72a69643d618",
        "colab": {
          "base_uri": "https://localhost:8080/",
          "height": 125
        }
      },
      "source": [
        "from google.colab import drive\n",
        "drive.mount('/content/drive')"
      ],
      "execution_count": 1,
      "outputs": [
        {
          "output_type": "stream",
          "text": [
            "Go to this URL in a browser: https://accounts.google.com/o/oauth2/auth?client_id=947318989803-6bn6qk8qdgf4n4g3pfee6491hc0brc4i.apps.googleusercontent.com&redirect_uri=urn%3Aietf%3Awg%3Aoauth%3A2.0%3Aoob&scope=email%20https%3A%2F%2Fwww.googleapis.com%2Fauth%2Fdocs.test%20https%3A%2F%2Fwww.googleapis.com%2Fauth%2Fdrive%20https%3A%2F%2Fwww.googleapis.com%2Fauth%2Fdrive.photos.readonly%20https%3A%2F%2Fwww.googleapis.com%2Fauth%2Fpeopleapi.readonly&response_type=code\n",
            "\n",
            "Enter your authorization code:\n",
            "··········\n",
            "Mounted at /content/drive\n"
          ],
          "name": "stdout"
        }
      ]
    },
    {
      "cell_type": "code",
      "metadata": {
        "id": "XTEoSDnZ8faa",
        "colab_type": "code",
        "outputId": "271f03ac-9598-48e7-f267-ed492d8911da",
        "colab": {
          "base_uri": "https://localhost:8080/",
          "height": 52
        }
      },
      "source": [
        "import pandas as pd\n",
        "import numpy as np\n",
        "from numpy import random\n",
        "import gensim\n",
        "import nltk\n",
        "import matplotlib.pyplot as plt\n",
        "from nltk.corpus import stopwords\n",
        "nltk.download('stopwords')\n",
        "import re\n",
        "from bs4 import BeautifulSoup\n",
        "import pickle\n",
        "%matplotlib inline"
      ],
      "execution_count": 2,
      "outputs": [
        {
          "output_type": "stream",
          "text": [
            "[nltk_data] Downloading package stopwords to /root/nltk_data...\n",
            "[nltk_data]   Unzipping corpora/stopwords.zip.\n"
          ],
          "name": "stdout"
        }
      ]
    },
    {
      "cell_type": "code",
      "metadata": {
        "id": "5zslGolOCt-2",
        "colab_type": "code",
        "colab": {}
      },
      "source": [
        "import pickle\n",
        "\n",
        "with open ('/content/drive/My Drive/Colab Notebooks/hamfile', 'rb') as fp:\n",
        "    ham_list = pickle.load(fp)\n",
        "df_ham = pd.DataFrame(ham_list, columns=['type', 'header', 'body'])"
      ],
      "execution_count": 0,
      "outputs": []
    },
    {
      "cell_type": "code",
      "metadata": {
        "id": "KFJiik1K_J5D",
        "colab_type": "code",
        "colab": {}
      },
      "source": [
        "with open ('/content/drive/My Drive/Colab Notebooks/2019spamfile', 'rb') as fp:\n",
        "    spam_list = pickle.load(fp)\n",
        "df_spam = pd.DataFrame(spam_list, columns=['type', 'header', 'body'])"
      ],
      "execution_count": 0,
      "outputs": []
    },
    {
      "cell_type": "markdown",
      "metadata": {
        "id": "j_FKZPy0wYgj",
        "colab_type": "text"
      },
      "source": [
        "Use below if creating the train set for the real-life scenario with the old emails. If not use above"
      ]
    },
    {
      "cell_type": "code",
      "metadata": {
        "id": "J-i-3z4UwUWo",
        "colab_type": "code",
        "colab": {}
      },
      "source": [
        "with open ('/content/drive/My Drive/Colab Notebooks/oldspamfile', 'rb') as fp:\n",
        "    spam_list = pickle.load(fp)\n",
        "df_spam = pd.DataFrame(spam_list, columns=['type', 'header', 'body'])"
      ],
      "execution_count": 0,
      "outputs": []
    },
    {
      "cell_type": "code",
      "metadata": {
        "id": "8IAUpnoHkm5b",
        "colab_type": "code",
        "colab": {}
      },
      "source": [
        "# add these two dataframes together and shuffle them\n",
        "df = df_ham.append(df_spam, ignore_index=True)\n",
        "df = df.sample(frac=1).reset_index(drop=True)"
      ],
      "execution_count": 0,
      "outputs": []
    },
    {
      "cell_type": "code",
      "metadata": {
        "id": "ppuUZUA0-Syv",
        "colab_type": "code",
        "outputId": "6292cdad-43a2-4789-d6aa-b4286892d1b9",
        "colab": {
          "base_uri": "https://localhost:8080/",
          "height": 195
        }
      },
      "source": [
        "df.head()"
      ],
      "execution_count": 6,
      "outputs": [
        {
          "output_type": "execute_result",
          "data": {
            "text/html": [
              "<div>\n",
              "<style scoped>\n",
              "    .dataframe tbody tr th:only-of-type {\n",
              "        vertical-align: middle;\n",
              "    }\n",
              "\n",
              "    .dataframe tbody tr th {\n",
              "        vertical-align: top;\n",
              "    }\n",
              "\n",
              "    .dataframe thead th {\n",
              "        text-align: right;\n",
              "    }\n",
              "</style>\n",
              "<table border=\"1\" class=\"dataframe\">\n",
              "  <thead>\n",
              "    <tr style=\"text-align: right;\">\n",
              "      <th></th>\n",
              "      <th>type</th>\n",
              "      <th>header</th>\n",
              "      <th>body</th>\n",
              "    </tr>\n",
              "  </thead>\n",
              "  <tbody>\n",
              "    <tr>\n",
              "      <th>0</th>\n",
              "      <td>spam</td>\n",
              "      <td>Return-Path: &lt;bounce@saviola.ga&gt;\\nDelivered-To...</td>\n",
              "      <td>Content-Type: text/html; charset=\"UTF-8\"\\nDate...</td>\n",
              "    </tr>\n",
              "    <tr>\n",
              "      <th>1</th>\n",
              "      <td>ham</td>\n",
              "      <td>Message-ID: &lt;9044275.1075854180778.JavaMail.ev...</td>\n",
              "      <td>\\n\\nAttached is the August 2000 nomination for...</td>\n",
              "    </tr>\n",
              "    <tr>\n",
              "      <th>2</th>\n",
              "      <td>ham</td>\n",
              "      <td>Message-ID: &lt;24300278.1075856614950.JavaMail.e...</td>\n",
              "      <td>\\n\\nVasant,\\n\\nThanks for the invitation. It w...</td>\n",
              "    </tr>\n",
              "    <tr>\n",
              "      <th>3</th>\n",
              "      <td>ham</td>\n",
              "      <td>Message-ID: &lt;18058176.1075856575244.JavaMail.e...</td>\n",
              "      <td>\\n\\nRachel,  can you give us a delivery date o...</td>\n",
              "    </tr>\n",
              "    <tr>\n",
              "      <th>4</th>\n",
              "      <td>spam</td>\n",
              "      <td>Return-Path: &lt;test@mobileshopegypt.com&gt;\\nDeliv...</td>\n",
              "      <td>\\n&lt;HTML&gt;&lt;HEAD&gt;&lt;/HEAD&gt;\\n&lt;BODY&gt;\\n&lt;P&gt;Greetings,&lt;/...</td>\n",
              "    </tr>\n",
              "  </tbody>\n",
              "</table>\n",
              "</div>"
            ],
            "text/plain": [
              "   type  ...                                               body\n",
              "0  spam  ...  Content-Type: text/html; charset=\"UTF-8\"\\nDate...\n",
              "1   ham  ...  \\n\\nAttached is the August 2000 nomination for...\n",
              "2   ham  ...  \\n\\nVasant,\\n\\nThanks for the invitation. It w...\n",
              "3   ham  ...  \\n\\nRachel,  can you give us a delivery date o...\n",
              "4  spam  ...  \\n<HTML><HEAD></HEAD>\\n<BODY>\\n<P>Greetings,</...\n",
              "\n",
              "[5 rows x 3 columns]"
            ]
          },
          "metadata": {
            "tags": []
          },
          "execution_count": 6
        }
      ]
    },
    {
      "cell_type": "code",
      "metadata": {
        "id": "l9p0Ym6jHgWO",
        "colab_type": "code",
        "colab": {
          "base_uri": "https://localhost:8080/",
          "height": 1000
        },
        "outputId": "3f329346-964f-4033-e287-f1626fde8b8b"
      },
      "source": [
        "print(df.body[10])"
      ],
      "execution_count": 8,
      "outputs": [
        {
          "output_type": "stream",
          "text": [
            "\n",
            "\n",
            "Note:  With Dynegy as anchor, NGPL is planning on building a lateral into St. \n",
            "Louis for the first time.  MRT (a Reliant pipeline)\n",
            "has been the only pipeline into this market.  \n",
            "\n",
            "\n",
            "NGPL Plans Lateral to Serve Illinois Power in St. Louis\n",
            "\n",
            "Natural Gas Pipeline Company of America (NGPL) announced plans to build a new \n",
            "47-mile, 24-inch diameter pipeline lateral into St. Louis to serve Illinois \n",
            "Power's gas distribution system. The $35 million project, which is anchored \n",
            "by a contract with Illinois Power affiliate Dynegy Marketing and Trade, will \n",
            "add at least 300,000 Dth/d of gas transportation capacity to the St. Louis \n",
            "market. \n",
            "\n",
            "\"The pipeline project and related agreements ideally demonstrate our ongoing \n",
            "strategy to expand our natural gas pipeline services into growing markets \n",
            "currently not connected to NGPL and to increase throughput on our system by \n",
            "adding electric load to our extensive pipeline network,\" said Richard D. \n",
            "Kinder, CEO of Kinder Morgan Inc., the parent company of NGPL. \n",
            "\n",
            "The new lateral will extend from Centralia, IL, to a point on Illinois \n",
            "Power's gas distribution system in the East St. Louis market. The project is \n",
            "scheduled for completion in June of 2002. \n",
            "\n",
            "NGPL and Dynegy entered into a number of long-term, gas transportation and \n",
            "storage contracts, including a 10-year agreement effective June 1, 2002, \n",
            "which will provide Dynegy with 90,000 Dth/d of gas via the new pipeline. In \n",
            "addition, NGPL and Dynegy entered into various other firm transportation \n",
            "agreements totaling another 98,000 Dth/d of gas sourced from NGPL's Gulf \n",
            "Coast and Amarillo lines beginning as early as Dec. 1, 2000. \n",
            "\n",
            "The NGPL project effectively creates a new supplier for a geographical area \n",
            "that until now has been served by just one natural gas transportation company \n",
            "[Mississippi River Transmission], according to Larry F. Altenbaumer, \n",
            "president of Illinois Power. \"This new connection to Illinois Power's system \n",
            "will help open competitive opportunities to natural gas customers in the \n",
            "metro east area of St. Louis. It not only provides for a new delivery point \n",
            "to service customers directly, but also to fuel electric generation in the \n",
            "area. \n",
            "\n",
            "\"The 10-year agreement to provide firm transportation service to Dynegy \n",
            "provides us a solid anchor customer for the pipeline project,\" said Deb \n",
            "Macdonald, president of NGPL. NGPL intends to solicit expressions of interest \n",
            "from other shippers in December and January. The results of the open season \n",
            "will determine the final scope of the project. \n",
            "\n",
            "\"With Dynegy as our anchor customer, we will build the new lateral into the \n",
            "St. Louis market regardless of whether we receive other expressions of \n",
            "interest,\" said Macdonald. \"We anticipate a strong response, however, given \n",
            "the size of the market and the potential for additional gas-fired power \n",
            "generation.\" \n",
            "\n",
            "Interested shippers should contact Mark Menis, NGPL's director of business \n",
            "development, at (630) 691-3347. \n",
            "\n"
          ],
          "name": "stdout"
        }
      ]
    },
    {
      "cell_type": "markdown",
      "metadata": {
        "id": "bcKoZnxhBTnC",
        "colab_type": "text"
      },
      "source": [
        "##### number of words"
      ]
    },
    {
      "cell_type": "code",
      "metadata": {
        "id": "zNtaA4yWBIkr",
        "colab_type": "code",
        "outputId": "33b06119-cafb-4611-dcda-10ee479522be",
        "colab": {
          "base_uri": "https://localhost:8080/",
          "height": 34
        }
      },
      "source": [
        "df = df[pd.notnull(df['type'])]\n",
        "print(df['body'].apply(lambda x: len(x.split(' '))).sum())"
      ],
      "execution_count": 9,
      "outputs": [
        {
          "output_type": "stream",
          "text": [
            "27617517\n"
          ],
          "name": "stdout"
        }
      ]
    },
    {
      "cell_type": "markdown",
      "metadata": {
        "id": "YqFoHlOCZ-EB",
        "colab_type": "text"
      },
      "source": [
        "### The split of the two classes"
      ]
    },
    {
      "cell_type": "code",
      "metadata": {
        "id": "330gjRJZBWKQ",
        "colab_type": "code",
        "outputId": "a0e388b2-6a4e-442f-8f1b-b557f3c4f5b4",
        "colab": {
          "base_uri": "https://localhost:8080/",
          "height": 283
        }
      },
      "source": [
        "my_types = ['spam', 'ham']\n",
        "plt.figure(figsize=(10,4))\n",
        "df['type'].value_counts().plot(kind='bar');"
      ],
      "execution_count": 0,
      "outputs": [
        {
          "output_type": "display_data",
          "data": {
            "image/png": "[encoded data removed]",
            "text/plain": [
              "<Figure size 720x288 with 1 Axes>"
            ]
          },
          "metadata": {
            "tags": []
          }
        }
      ]
    },
    {
      "cell_type": "code",
      "metadata": {
        "id": "YYHAo9JVxDQk",
        "colab_type": "code",
        "outputId": "fff6498a-0753-4145-fb79-a9ce1e0886cb",
        "colab": {
          "base_uri": "https://localhost:8080/",
          "height": 70
        }
      },
      "source": [
        "df['type'].value_counts()"
      ],
      "execution_count": 0,
      "outputs": [
        {
          "output_type": "execute_result",
          "data": {
            "text/plain": [
              "ham     17187\n",
              "spam    15428\n",
              "Name: type, dtype: int64"
            ]
          },
          "metadata": {
            "tags": []
          },
          "execution_count": 12
        }
      ]
    },
    {
      "cell_type": "markdown",
      "metadata": {
        "id": "WGj3aDfIaGam",
        "colab_type": "text"
      },
      "source": [
        "## Pre-processing"
      ]
    },
    {
      "cell_type": "markdown",
      "metadata": {
        "id": "t2prXM6gJefy",
        "colab_type": "text"
      },
      "source": [
        "- HTML decoding\n",
        "- Lemmatization\n",
        "- removing stop words\n",
        "- convert text to lower case\n",
        "- remove punctuation and bad characters "
      ]
    },
    {
      "cell_type": "code",
      "metadata": {
        "id": "5xtWbsoRBl1Z",
        "colab_type": "code",
        "outputId": "89b1e834-0701-41e3-df09-4dbee23c886f",
        "colab": {
          "base_uri": "https://localhost:8080/",
          "height": 87
        }
      },
      "source": [
        "REPLACE_BY_SPACE_RE = re.compile('[/(){}\\[\\]\\n\\r\\t\\|@,;]')\n",
        "BAD_SYMBOLS_RE = re.compile('[^0-9a-z #+_]')\n",
        "STOPWORDS = set(stopwords.words('english'))\n",
        "nltk.download('punkt')\n",
        "from nltk.stem import WordNetLemmatizer \n",
        "nltk.download('wordnet')\n",
        "\n",
        "def clean_up_text(text):\n",
        "\n",
        "    text = text.lower() # lowercase text\n",
        "    text = REPLACE_BY_SPACE_RE.sub(' ', text) # replace REPLACE_BY_SPACE_RE symbols by space in text    \n",
        "    text = BeautifulSoup(text, \"html.parser\").text # HTML decoding\n",
        "    text = BAD_SYMBOLS_RE.sub('', text) # delete symbols which are in BAD_SYMBOLS_RE from text\n",
        "    text = ' '.join(word for word in text.split() if word not in STOPWORDS) # delete stopwors from text\n",
        "    \n",
        "    # Lemmatization\n",
        "    word_list = nltk.word_tokenize(text) # Tokenize: Split the sentence into words\n",
        "    lemmatizer = WordNetLemmatizer()\n",
        "    lemmatized_output = ' '.join([lemmatizer.lemmatize(w) for w in word_list]) # Lemmatize list of words and join\n",
        "    text = lemmatized_output\n",
        "\n",
        "    return text\n",
        "    \n",
        "df['body'] = df['body'].apply(clean_up_text)"
      ],
      "execution_count": 10,
      "outputs": [
        {
          "output_type": "stream",
          "text": [
            "[nltk_data] Downloading package punkt to /root/nltk_data...\n",
            "[nltk_data]   Unzipping tokenizers/punkt.zip.\n",
            "[nltk_data] Downloading package wordnet to /root/nltk_data...\n",
            "[nltk_data]   Unzipping corpora/wordnet.zip.\n"
          ],
          "name": "stdout"
        }
      ]
    },
    {
      "cell_type": "code",
      "metadata": {
        "id": "sVjEhbmFHsQa",
        "colab_type": "code",
        "colab": {
          "base_uri": "https://localhost:8080/",
          "height": 54
        },
        "outputId": "befa28c7-3238-4811-91c4-74f059151b63"
      },
      "source": [
        "print(df.body[10])"
      ],
      "execution_count": 11,
      "outputs": [
        {
          "output_type": "stream",
          "text": [
            "note dynegy anchor ngpl planning building lateral st louis first time mrt reliant pipeline pipeline market ngpl plan lateral serve illinois power st louis natural gas pipeline company america ngpl announced plan build new 47mile 24inch diameter pipeline lateral st louis serve illinois power gas distribution system 35 million project anchored contract illinois power affiliate dynegy marketing trade add least 300 000 dth gas transportation capacity st louis market pipeline project related agreement ideally demonstrate ongoing strategy expand natural gas pipeline service growing market currently connected ngpl increase throughput system adding electric load extensive pipeline network said richard kinder ceo kinder morgan inc parent company ngpl new lateral extend centralia il point illinois power gas distribution system east st louis market project scheduled completion june 2002 ngpl dynegy entered number longterm gas transportation storage contract including 10year agreement effective june 1 2002 provide dynegy 90 000 dth gas via new pipeline addition ngpl dynegy entered various firm transportation agreement totaling another 98 000 dth gas sourced ngpls gulf coast amarillo line beginning early dec 1 2000 ngpl project effectively creates new supplier geographical area served one natural gas transportation company mississippi river transmission according larry f altenbaumer president illinois power new connection illinois power system help open competitive opportunity natural gas customer metro east area st louis provides new delivery point service customer directly also fuel electric generation area 10year agreement provide firm transportation service dynegy provides u solid anchor customer pipeline project said deb macdonald president ngpl ngpl intends solicit expression interest shipper december january result open season determine final scope project dynegy anchor customer build new lateral st louis market regardless whether receive expression interest said macdonald anticipate strong response however given size market potential additional gasfired power generation interested shipper contact mark menis ngpls director business development 630 6913347\n"
          ],
          "name": "stdout"
        }
      ]
    },
    {
      "cell_type": "markdown",
      "metadata": {
        "id": "DeKjd5uRbIrY",
        "colab_type": "text"
      },
      "source": [
        "#### Save in drive for later use"
      ]
    },
    {
      "cell_type": "code",
      "metadata": {
        "id": "7iLqtb8WJRkk",
        "colab_type": "code",
        "colab": {}
      },
      "source": [
        "df.to_pickle('/content/drive/My Drive/Colab Notebooks/ham_2019spam_cleaned_df') \n",
        "\n",
        "# use below if using this to obtain data of old emails for the real-life scenario\n",
        "# df.to_pickle('/content/drive/My Drive/Colab Notebooks/ham_old_spam_cleaned_df') "
      ],
      "execution_count": 0,
      "outputs": []
    }
  ]
}