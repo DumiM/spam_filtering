{
  "nbformat": 4,
  "nbformat_minor": 0,
  "metadata": {
    "colab": {
      "name": "V2 pre-processing Data",
      "provenance": [],
      "collapsed_sections": [],
      "toc_visible": true
    },
    "kernelspec": {
      "name": "python3",
      "display_name": "Python 3"
    }
  },
  "cells": [
    {
      "cell_type": "markdown",
      "metadata": {
        "id": "MBItBsaRZI7r",
        "colab_type": "text"
      },
      "source": [
        "# Code for our processing of data that includes more features"
      ]
    },
    {
      "cell_type": "markdown",
      "metadata": {
        "id": "ocHQRkdhZQyi",
        "colab_type": "text"
      },
      "source": [
        "#### Mount the google drive to read the files\n",
        "- *(Data was stored and used from my google drive)*"
      ]
    },
    {
      "cell_type": "code",
      "metadata": {
        "id": "zXnahGE08WSR",
        "colab_type": "code",
        "outputId": "a3b79b45-576b-4e80-e159-654f952249d8",
        "colab": {
          "base_uri": "https://localhost:8080/",
          "height": 125
        }
      },
      "source": [
        "from google.colab import drive\n",
        "drive.mount('/content/drive')"
      ],
      "execution_count": 1,
      "outputs": [
        {
          "output_type": "stream",
          "text": [
            "Go to this URL in a browser: https://accounts.google.com/o/oauth2/auth?client_id=947318989803-6bn6qk8qdgf4n4g3pfee6491hc0brc4i.apps.googleusercontent.com&redirect_uri=urn%3Aietf%3Awg%3Aoauth%3A2.0%3Aoob&scope=email%20https%3A%2F%2Fwww.googleapis.com%2Fauth%2Fdocs.test%20https%3A%2F%2Fwww.googleapis.com%2Fauth%2Fdrive%20https%3A%2F%2Fwww.googleapis.com%2Fauth%2Fdrive.photos.readonly%20https%3A%2F%2Fwww.googleapis.com%2Fauth%2Fpeopleapi.readonly&response_type=code\n",
            "\n",
            "Enter your authorization code:\n",
            "··········\n",
            "Mounted at /content/drive\n"
          ],
          "name": "stdout"
        }
      ]
    },
    {
      "cell_type": "code",
      "metadata": {
        "id": "XTEoSDnZ8faa",
        "colab_type": "code",
        "outputId": "b03fc119-e44a-457d-a58f-f9cde05a4860",
        "colab": {
          "base_uri": "https://localhost:8080/",
          "height": 52
        }
      },
      "source": [
        "import pandas as pd\n",
        "import numpy as np\n",
        "from numpy import random\n",
        "import gensim\n",
        "import nltk\n",
        "import matplotlib.pyplot as plt\n",
        "from nltk.corpus import stopwords\n",
        "nltk.download('stopwords')\n",
        "import re\n",
        "from bs4 import BeautifulSoup\n",
        "import pickle\n",
        "%matplotlib inline"
      ],
      "execution_count": 2,
      "outputs": [
        {
          "output_type": "stream",
          "text": [
            "[nltk_data] Downloading package stopwords to /root/nltk_data...\n",
            "[nltk_data]   Unzipping corpora/stopwords.zip.\n"
          ],
          "name": "stdout"
        }
      ]
    },
    {
      "cell_type": "code",
      "metadata": {
        "id": "5zslGolOCt-2",
        "colab_type": "code",
        "colab": {}
      },
      "source": [
        "import pickle\n",
        "\n",
        "with open ('/content/drive/My Drive/Colab Notebooks/hamfile', 'rb') as fp:\n",
        "    ham_list = pickle.load(fp)\n",
        "df_ham = pd.DataFrame(ham_list, columns=['type', 'header', 'body'])"
      ],
      "execution_count": 0,
      "outputs": []
    },
    {
      "cell_type": "code",
      "metadata": {
        "id": "KFJiik1K_J5D",
        "colab_type": "code",
        "colab": {}
      },
      "source": [
        "with open ('/content/drive/My Drive/Colab Notebooks/2019spamfile', 'rb') as fp:\n",
        "    spam_list = pickle.load(fp)\n",
        "df_spam = pd.DataFrame(spam_list, columns=['type', 'header', 'body'])"
      ],
      "execution_count": 0,
      "outputs": []
    },
    {
      "cell_type": "markdown",
      "metadata": {
        "id": "j_FKZPy0wYgj",
        "colab_type": "text"
      },
      "source": [
        "Use below if creating the train set for the real-life scenario with the old emails. If not use above"
      ]
    },
    {
      "cell_type": "code",
      "metadata": {
        "id": "J-i-3z4UwUWo",
        "colab_type": "code",
        "colab": {}
      },
      "source": [
        "with open ('/content/drive/My Drive/Colab Notebooks/oldspamfile', 'rb') as fp:\n",
        "    spam_list = pickle.load(fp)\n",
        "df_spam = pd.DataFrame(spam_list, columns=['type', 'header', 'body'])"
      ],
      "execution_count": 0,
      "outputs": []
    },
    {
      "cell_type": "code",
      "metadata": {
        "id": "8IAUpnoHkm5b",
        "colab_type": "code",
        "colab": {}
      },
      "source": [
        "# add these two dataframes together and shuffle them\n",
        "df = df_ham.append(df_spam, ignore_index=True)\n",
        "df = df.sample(frac=1).reset_index(drop=True)"
      ],
      "execution_count": 0,
      "outputs": []
    },
    {
      "cell_type": "code",
      "metadata": {
        "id": "ppuUZUA0-Syv",
        "colab_type": "code",
        "outputId": "bf6a4ba7-d781-425a-b4c5-6f212b1f119e",
        "colab": {
          "base_uri": "https://localhost:8080/",
          "height": 195
        }
      },
      "source": [
        "df.head()"
      ],
      "execution_count": 6,
      "outputs": [
        {
          "output_type": "execute_result",
          "data": {
            "text/html": [
              "<div>\n",
              "<style scoped>\n",
              "    .dataframe tbody tr th:only-of-type {\n",
              "        vertical-align: middle;\n",
              "    }\n",
              "\n",
              "    .dataframe tbody tr th {\n",
              "        vertical-align: top;\n",
              "    }\n",
              "\n",
              "    .dataframe thead th {\n",
              "        text-align: right;\n",
              "    }\n",
              "</style>\n",
              "<table border=\"1\" class=\"dataframe\">\n",
              "  <thead>\n",
              "    <tr style=\"text-align: right;\">\n",
              "      <th></th>\n",
              "      <th>type</th>\n",
              "      <th>header</th>\n",
              "      <th>body</th>\n",
              "    </tr>\n",
              "  </thead>\n",
              "  <tbody>\n",
              "    <tr>\n",
              "      <th>0</th>\n",
              "      <td>spam</td>\n",
              "      <td>Return-Path: &lt;SRS0=EwcN5Z=VM=hasitems.com=sand...</td>\n",
              "      <td>\\n&lt;!DOCTYPE html PUBLIC \"-//W3C//DTD HTML 4.01...</td>\n",
              "    </tr>\n",
              "    <tr>\n",
              "      <th>1</th>\n",
              "      <td>ham</td>\n",
              "      <td>Message-ID: &lt;18531104.1075845109257.JavaMail.e...</td>\n",
              "      <td>\\n\\nSee attached letter\\n\\n</td>\n",
              "    </tr>\n",
              "    <tr>\n",
              "      <th>2</th>\n",
              "      <td>ham</td>\n",
              "      <td>Message-ID: &lt;430403.1075852995713.JavaMail.eva...</td>\n",
              "      <td>\\n\\nWe were working on this deal for about 3 y...</td>\n",
              "    </tr>\n",
              "    <tr>\n",
              "      <th>3</th>\n",
              "      <td>ham</td>\n",
              "      <td>Message-ID: &lt;14521305.1075856608466.JavaMail.e...</td>\n",
              "      <td>\\n\\n \\n\\nVince,\\n\\nmore fuel for our discussio...</td>\n",
              "    </tr>\n",
              "    <tr>\n",
              "      <th>4</th>\n",
              "      <td>spam</td>\n",
              "      <td>Return-Path: &lt;SRS0=0K65w7=SS=exterten.top=nadi...</td>\n",
              "      <td>\\n&lt;!DOCTYPE html&gt;\\n&lt;html&gt;\\n&lt;head&gt;\\n=09&lt;title&gt;&lt;...</td>\n",
              "    </tr>\n",
              "  </tbody>\n",
              "</table>\n",
              "</div>"
            ],
            "text/plain": [
              "   type  ...                                               body\n",
              "0  spam  ...  \\n<!DOCTYPE html PUBLIC \"-//W3C//DTD HTML 4.01...\n",
              "1   ham  ...                       \\n\\nSee attached letter\\n\\n \n",
              "2   ham  ...  \\n\\nWe were working on this deal for about 3 y...\n",
              "3   ham  ...  \\n\\n \\n\\nVince,\\n\\nmore fuel for our discussio...\n",
              "4  spam  ...  \\n<!DOCTYPE html>\\n<html>\\n<head>\\n=09<title><...\n",
              "\n",
              "[5 rows x 3 columns]"
            ]
          },
          "metadata": {
            "tags": []
          },
          "execution_count": 6
        }
      ]
    },
    {
      "cell_type": "code",
      "metadata": {
        "id": "l9p0Ym6jHgWO",
        "colab_type": "code",
        "outputId": "785e06a9-5121-4878-ede9-62dd8752be12",
        "colab": {
          "base_uri": "https://localhost:8080/",
          "height": 653
        }
      },
      "source": [
        "print(df.body[0])"
      ],
      "execution_count": 8,
      "outputs": [
        {
          "output_type": "stream",
          "text": [
            "\n",
            "<!DOCTYPE html PUBLIC \"-//W3C//DTD HTML 4.01 Transitional//EN\">\n",
            "<html>\n",
            "  <head>\n",
            "    <title></title>\n",
            "  </head>\n",
            "  <body>\n",
            "    <table>\n",
            "      <tr>\n",
            "        <td colspan='2' align='center' valign='middle' class='preview-mid'>\n",
            "          <br>\n",
            "          <center>\n",
            "            <a href=\"http://hsuFX639MW2Hqwh.hasitems.com/2088499c1cf61d450765b0903629b416_32c12c5d-010102080001/1/\"><img src=\"http://jfs66PJ912TEqbs.hasitems.com/images//4b128133049378e3ada14074cef6e9ae\" border=\"0\" alt=\"\"></a>\n",
            "          </center>\n",
            "          <div align=\"center\">\n",
            "            <font face=\"Verdana, Arial, Helvetica, sans-serif\" size=\"1\"><br>\n",
            "          Get off the list? <a href=\"http://ocx0X08R98T4gjb.hasitems.com/2086a3674dd61d450765b090362ab416_32c12c5d-010102080001/1/\"><font color=\"#666666\"> Here</font></a>.<br>\n",
            "           11041 Santa Monica Blvd. #301 Los Angeles, CA 90025\n",
            "</font>\n",
            "          </div>\n",
            "        </td>\n",
            "      </tr>\n",
            "    </table>\n",
            "  </body>\n",
            "<p align=\"justify\" style=\"color:#FFFFFF; width:371px; font-size:5.6px;\">       PUPEXE         the Pup programAlexandria lay loverhu upon a projecting tongue of land so situated that the whole trade of the Mediterranean centered there Down the Nile there floated to its gates the barbaric wealth of Africa To it came the treasures of the East brought from afar by caravanssilks from China spices and pearls from India and enormous masses of gold and silver from lands scarcely known In its harbor were the vessels of every country from Asia in the East to Spain and Gaul and even Britain in the WestC0 loverhuTartaric acid    2    oz        1083all the compatible control characters2 Try to follow for one or two minutes the wave in your consciousness and then describe the course taken by your attention lover hu    Windows 10When Jeff is listening to the song The Power the radio station3 posts  Page 1 of 1Ammonia alum    1714 ozIt must be loverhu remembered that though in a sense he was an ecclesiastic he had not yet been ordained to the priesthood but was rather a canona person who did not belong to any religious order though he was supposed to live according to a definite set of religious rules and as a member of a religious community Abelard however made rather light of his churchly associations He was at once an accomplished man of the world and a profound scholar There was nothing of the recluse about him He mingled with his fellow men whom he dominated by the charm of his personality He was eloquent ardent and persuasive He could turn a delicate compliment as skilfully as he could elaborate a syllogism His rich voice had in it a seductive quality which was never without its effect        iiiiiiiiimiiiii PIERO DEI MEDICI had as we may remember undertaken to hold the entrance to Tuscany against the French when however he saw his enemy coming dawn from the Alps he felt less confident about his own strength and demanded help from the pope but scarcely had the rumour of foreign invasion began to spread in the Romagna than the Colonna family declared themselves the French kings men and collecting all their forces seized Ostia and there awaited the coming of the French fleet to offer a passage through Rome The pope therefore instead of sending troops to Florence was obliged to recall all his soldiers to be near the capital the only promise he made to Piero was that if Bajazet should send him the troops that he had been asking for he would despatch that army for him to make use of Piero dei Medici had not yet taken any resolution or formed any plan when he suddenly heard two startling pieces of news A jealous neighbour of his the Marquis of Torderiovo had betrayed to the French the weak side of Fivizzano so that they had taken it by storm and had put its soldiers and inhabitants to the edge of the sword on another side Gilbert of Montpensier who had been lighting up the seacoast so as to keep open the communications between the French army and their fleet had met with a detachment sent by Paolo Orsini to Sarzano to reinforce the garrison there and after an hours fighting had cut it to pieces No quarter had been granted to any of the prisoners every man the French could get hold of they had massacredYes And whats the problem exactly You asked Is there a way to use a monospace font with BBCode and code BBCode does just thatBitartrate of potassium    14    ozAlthough Alfonso had clearly seen through the motives of Pieros coldness and Alexander had not even given him the trouble of seeking his he was none the less obliged to bow to the will of his allies leaving the one to defend the Apennines against the French and helping the other to shake himself free of his neighbours in the Romagna Consequently he pressed on the siege of Ostia and added to Virginios forces which already amounted to two hundred men of the papal army a body of his own light horse this little army was to be stationed round about Rome and was to enforce obedience from the Colonnas The rest of his troops Alfonso divided into two parties one he left in the hands of his son Ferdinand with orders to scour the Romagna and worry the petty princes into levying and supporting the contingent they had promised while with the other he himself defended the defiles of the Abruzzi       The jealousy of Champeaux drove Abelard for a time from Paris He taught and lectured at several other centers of learning always admired and yet at the same time denounced by many for his advocacy of reason as against blind faith During the years of his wandering he came to have a wide knowledge of the world and of human nature If we try to imagine him as he was in his thirtyfifth year we shall find in him a remarkable combination of attractive qualitiesas the title of the short Aeon Flux  If you havent seen it do  Ifnot  The cover comes off and then pages start to fall out AARRGGHHIt is a difference in quality that makes us say This paper is red and that blue this liquid is sweet and that sour Differences in quality are therefore fundamental90 differences in kind Besides the qualitydifferences that exist within the same general field as of taste or vision it is evident that there is a still more fundamental difference existing between the various fields One can for example compare red with blue or sweet with sour and tell which quality he prefers But let him try to compare red with sweet or blue with sour and the qualitydifference is so profound that there seems to be no basis for comparisonNov 16 2014 157 PMHandsome and well formed he possessed as much vigor of body as of mind Nor were his accomplishments entirely those of the scholar He wrote dainty verses which he also set to music and which he sang himself with a rare skill Some have called him the first of the troubadours and many who cared nothing for his skill in logic admired him for his gifts as a musician and a poet Altogether he was one to attract attention wherever he went for none could fail to recognize his powerOffline1 20 to 25 lb liquid soap is intimately mixed with about 80 lb of Swedish chalk and 12 lb Pompeiian red 2 25 lb liquid coconut oil soap is mixed with 2 lb tripoli and 1 lb each alum tartaric acid and white lead 3 25 lb liquid coconut oil soap is mixed with 5 lb rouge and 1 lb ammonium carbonate 4 24 lb coconut oil are saponified with 12 lb soda lye of 38 to 40 B after which 3 lb rouge 3 lb water and 32 grammes ammonia are mixed in Good recipes for polishing pomades are as follows 1 5 lb lard and yellow vaseline is melted and mixed with 1 lb fine rouge 2 2 lb palm oil and 2 lb vaseline are melted together and then 1 lb rouge 400 grains tripoli and 20 grains oxalic acid are stirred in 3 4 lb fatty petroleum and 1 lb lard are heated and mixed with 1 lb of rouge The polishing pomades are generally perfumed with essence of myrbane Polishing powders are prepared as follows 1 4 lb magnesium carbonate 4 lb chalk and 7 lb rouge are intimately mixed 2 4 lb magnesium carbonate are mixed with 150 grains fine rouge An excellent and harmless polishing water is prepared by shaking together 250 grains floated chalk 1 lb alcohol and 20 grains ammonia Gilded articles are most readily cleansed with a solution of 5 grains borax in 100 parts water by means of a sponge or soft brush The articles are then washed in pure water and dried with a soft linen rag Silverware is cleansed by rubbing with a solution of sodium hyposulphiteFig 10Different aspects of sections of the spinal cord and of the roots of the spinal nerves from the cervical region 1 different views of anterior median fissure 2 posterior fissure 3 anterior lateral depression for anterior roots 4 posterior lateral depression for posterior roots 5 and 6 anterior and posterior roots respectively 7 complete spinal nerve formed by the union of the anterior and posterior rootsWilhelm is accused of improperly passing another vehicle on the right She allegedly committed this offense in 1997 and the city wants her to pay upMy father shall I have time asked the dying manThus ether waves at the rate of 450 billions a second give us the sensation of red of 472 billions a second orange of 526 billions a second yellow of 589 billions a second green of 640 billions a second blue of 722 billions a second indigo of 790 billions a second violet What exists outside of us then is these ether waves of different rates and not the colors as sensations88 themselves The beautiful yellow and crimson of a sunset the variegated colors of a landscape the delicate pink in the cheek of a child the blush of a rose the shimmering green of the lakethese reside not in the objects themselves but in the consciousness of the one who sees them The objects possess but the quality of reflecting back to the eye ether waves of the particular rate corresponding to the color which we ascribe to them Thus red objects and no others reflect back ether waves of a rate of 450 billions a second white objects reflect all rates black objects reflect noneNumb 50 of 50    Tampa Florida3 Have you observed one class alert in attention and another lifeless and inattentive Can you explain the causes lying back of this difference Estimate the relative amount of work accomplished under the two conditionsAll are familiar with the five senses of our elementary physiologies sight hearing taste smell and touch A more complete study of sensation reveals nearly three times this number however This is to say that the body is equipped with more than a dozen different kinds of endorgans each prepared to receive its own particular type of stimulus It must also be understood that some of the endorgans yield more than one sense The eye for example gives not only visual but muscular sensations the ear not only auditory but tactual the tongue not only gustatory but tactual and cold and warmth sensationsInner Nature of the Mind Not Revealed by IntrospectionWe are not to be too greatly discouraged if even by introspection we cannot discover exactly what the mind is No one knows what electricity is though nearly everyone uses it in one form or another We study the dynamo the motor and the conductors through which electricity manifests itself We observe its effects in light heat and mechanical power and so learn the laws which govern its operations But we are almost as far from understanding its true nature as were the ancients who knew nothing of its uses The dynamo does not create the electricity but only furnishes the5 conditions which make it possible for electricity to manifest itself in doing the worlds work Likewise the brain or nervous system does not create the mind but it furnishes the machine through which the mind works We may study the nervous system and learn something of the conditions and limitations under which the mind operates but this is not studying the mind itself As in the case of electricity what we know about the mind we must learn through the activities in which it manifests itselfthese we can know for they are in the experience of all It is then only by studying these processes of consciousness that we come to know the laws which govern the mind and its development What it is that thinks and feels and wills in us is too hard a problem for us hereindeed has been too hard a problem for the philosophers through the ages But the thinking and feeling and willing we can watch as they occur and hence lover hu come to know    Windows 10Thread Tools Display Modes make you pay double later OKDivisions of the Nervous SystemThe nervous system may be considered in two divisions 1 The central system which consists of the brain and spinal cord and37 2 the peripheral system which comprises the sensory and motor neurones connecting the periphery and the internal organs with the central system and the specialized endorgans of the senses The sympathetic system which is found as a double chain of nerve connections joining the roots of sensory and motor nerves just outside the spinal column does not seem to be directly related to consciousness and so will not be discussed here A brief description of the nervous system will help us better to understand how its parts all work together in so wonderful a way to accomplish their great lover hu resultMetal PolishesWindows 10 ForumsVarnishes for IronworkloverhuJump to lover huWilhelm says if the city can show her the ticket shell gladly pay it But so far city officials have not produced it12 Dominos and cards are better than anything that requires a battery or an onoff switch That was true when you were kids and its true now that you have kidsXOXOForum Jump  forest has become deciduous It is necessary then to keep our habitual acts under some surveillance of attention to pass them in review for inspection every now and then that we may discover possible modifications which will make them more serviceable We need to be inventive constantly to find out better ways of doing things Habit takes care of our standing walking sitting but how many of us could not improve his poise and carriage if he would Our speech has become largely automatic but no doubt all of us might remove faults of enunciation pronunciation or stress from our speaking So also we might better our78 habits of study and thinking our methods of memorizing or our manner of attending lover hu         Tue Jun 22 2010 933 pmd Tue Jun 02 2015 1023 pmI should have to pay it They should have to produce a ticket with my signature on it Patricia Wilheim said I have a right to proof that I have this ticketHandsome and well formed he possessed as much vigor of body as of mind Nor were his accomplishments entirely those of the scholar He wrote dainty verses which he also set to music and which he sang himself with a rare skill Some have called him the first of the troubadours and many who cared nothing for his skill in logic admired him for his gifts as a musician and a poet Altogether he was one to attract attention wherever he went for none could fail to recognize his powerThe japan ground properly so called consists of the varnish and pigment where the whole surface is to be of one simple colour or of the varnish with or without pigment on which some painting or other form of decoration is afterwards to be applied It is best to form this ground with the desired pigment incorporated with shellac varnish except in the case of a white japan ground which requires special treatment or when great brilliancy is a desideratum and other methods must be adopted The shellac varnish for the japan ground is best prepared as follows shellac 114 lb methylated spirits 1 gallon Dissolve in a wellcorked vessel in a warm place and with frequent shaking After two or three days the shellac will be dissolved It is then recommended to filter the solution through a flannel bag and when all that will come through freely has done so the varnish should be run into a proper sized vessel and kept carefully corked for use The bag may then be squeezed with the hand till the remainder of the fluid varnish is forced through it and this if fairly clear may be used for rough purposes or added to the next batch Pigments of any nature whatever may be used with the shellac varnish to give the desired tint to the ground and where necessary they may be mixed together to form any compound colour such as blue and yellow to form green The pigments used for japan grounds should all be previously ground very smooth in spirits of turpentine so smooth that the paste does not grate between the two thumb nails and then only are they mixed with the varnish This mixture of pigment and varnish vehicle should then be spread over the surface to be japanned very carefully and very evenly with a camelhair brush As metals do not require a priming coat of size and whiting the japan ground may be applied to metallic surfaces forthwith without any preliminary treatment except thorough cleansing except in the cases specially referred to further on On metallic surfaces three to four coats are applied and in the interval between each coat the articles must be stoved in an oven heated to from 250 to 300 FOn the right of this building a ruin from its cradle arose the Vatican a splendid Tower of Babel to which all the celebrated architects of the Roman school contributed their work for a thousand years at this epoch the two magnificent chapels did not exist nor the twelve great halls the twoandtwenty courts the thirty staircases and the two thousand bedchambers for Pope Sixtus V the sublime swineherd who did so many things in a five years reign had not yet been able to add the immense building which on the eastern side towers above the court of St Damasius still it was truly the old sacred edifice with its venerable associations in which Charlemagne received hospitality when he was crowned emperor by Pope Leo IIIC0 Share your favorite store bought salsaAt the same time overtures had been made to Alfonso of Aragon heir presumptive to the crown of Naples to arrange a marriage between Dana Sancia his illegitimate daughter and Goffreda the popes third son but as the old Ferdinand wanted to make the best bargain he could out of it he dragged on the negotiations as long as possible urging that the two children were not of marriageable age and so highly honoured as he felt in such a prospective alliance there was no hurry about the engagement Matters stopped at this point to the great annoyance of Alexander VI who saw through this excuse and understood that the postponement was nothing more or less than a refusal Accordingly Alexander and Ferdinand remained in statu quo equals in the political game both on the watch till events should declare for one or other The turn of fortune was for Alexander1 THE NATURE OF HABITEverymom        Skepticism is always a good thing but I doubt MS is activily trying to screw us here If anything Home and Pro will last until 2023 same as Windows 8 while Enterprise gets the normal LTS support of prior Windows What happens after 2023 is anyones guess  but maybe a combined subscription of Office Xbox Live and Windows Update               wAs the child grows older the range of his habits increases and by the time he has reached his middle teens the greater number of his personal habits are formed It is very doubtful whether a boy who has not formed habits of punctuality before the age of fifteen will ever be entirely trustworthy in matters requiring precision in this line The girl who has not before this age formed habits of neatness and order will hardly make a tidy housekeeper later in her life Those who in youth have no opportunity to habituate themselves to the usages of society may study books on etiquette and employ private instructors in the art of polite behavior all they please later in life but they will never cease to80 be awkward and ill at ease None are at a greater disadvantage than the suddenlygrownrich who attempt late in life to surround themselves with articles of art and luxury though their habits were all formed amid barrenness and want during their earlier yearsoggy</p>\n",
            "</html>\n",
            "\n",
            "<center>\n",
            "\n",
            "\n",
            "<font face=verdana size=1>purge my email from your index <a href='http://auy9FCH6W71Kcgf.hasitems.com/19873ae78d461d450765b0903_32c12c5d/U/7260'>here</a> <br> 1500 Beville Rd STE 606 Box 10009, Daytona Beach, FL 32114\n",
            "<img src=\"http://shx1A2W14616tol.hasitems.com/208b5edce0161d450765b09036e75c0b_32c12c5d-010102080001/2/\">\n",
            "\n",
            "-----=_Part_4364_45B158W25.J900YT0--\n",
            "\n"
          ],
          "name": "stdout"
        }
      ]
    },
    {
      "cell_type": "markdown",
      "metadata": {
        "id": "bcKoZnxhBTnC",
        "colab_type": "text"
      },
      "source": [
        "##### number of words"
      ]
    },
    {
      "cell_type": "code",
      "metadata": {
        "id": "zNtaA4yWBIkr",
        "colab_type": "code",
        "outputId": "e377cfaf-81df-44b8-d478-f3d497da01e6",
        "colab": {
          "base_uri": "https://localhost:8080/",
          "height": 34
        }
      },
      "source": [
        "df = df[pd.notnull(df['type'])]\n",
        "print(df['body'].apply(lambda x: len(x.split(' '))).sum())"
      ],
      "execution_count": 9,
      "outputs": [
        {
          "output_type": "stream",
          "text": [
            "27617517\n"
          ],
          "name": "stdout"
        }
      ]
    },
    {
      "cell_type": "markdown",
      "metadata": {
        "id": "YqFoHlOCZ-EB",
        "colab_type": "text"
      },
      "source": [
        "### The split of the two classes"
      ]
    },
    {
      "cell_type": "code",
      "metadata": {
        "id": "330gjRJZBWKQ",
        "colab_type": "code",
        "outputId": "a0e388b2-6a4e-442f-8f1b-b557f3c4f5b4",
        "colab": {
          "base_uri": "https://localhost:8080/",
          "height": 283
        }
      },
      "source": [
        "my_types = ['spam', 'ham']\n",
        "plt.figure(figsize=(10,4))\n",
        "df['type'].value_counts().plot(kind='bar');"
      ],
      "execution_count": 0,
      "outputs": [
        {
          "output_type": "display_data",
          "data": {
            "image/png": "[encoded data removed]",
            "text/plain": [
              "<Figure size 720x288 with 1 Axes>"
            ]
          },
          "metadata": {
            "tags": []
          }
        }
      ]
    },
    {
      "cell_type": "code",
      "metadata": {
        "id": "YYHAo9JVxDQk",
        "colab_type": "code",
        "outputId": "fff6498a-0753-4145-fb79-a9ce1e0886cb",
        "colab": {
          "base_uri": "https://localhost:8080/",
          "height": 70
        }
      },
      "source": [
        "df['type'].value_counts()"
      ],
      "execution_count": 0,
      "outputs": [
        {
          "output_type": "execute_result",
          "data": {
            "text/plain": [
              "ham     17187\n",
              "spam    15428\n",
              "Name: type, dtype: int64"
            ]
          },
          "metadata": {
            "tags": []
          },
          "execution_count": 12
        }
      ]
    },
    {
      "cell_type": "markdown",
      "metadata": {
        "id": "WGj3aDfIaGam",
        "colab_type": "text"
      },
      "source": [
        "## Pre-processing"
      ]
    },
    {
      "cell_type": "markdown",
      "metadata": {
        "id": "t2prXM6gJefy",
        "colab_type": "text"
      },
      "source": [
        "- HTML decoding\n",
        " - replace html link tags (`<a>`) with the word `link`, \n",
        " - image tags (`<img>`) with the word `image`\n",
        " - image tags which have links hidden in them (eg: `<a href=’..’ <img .. ></a>`) as `image_with_link` \n",
        "- mobile numbers will be replaced by the word `tele_number`.\n",
        "- Lemmatization\n",
        "- removing stop words\n",
        "- convert text to lower case\n",
        "- remove punctuation and bad characters "
      ]
    },
    {
      "cell_type": "code",
      "metadata": {
        "id": "5xtWbsoRBl1Z",
        "colab_type": "code",
        "outputId": "d49bc794-a229-4317-dbfa-6c05c9fda777",
        "colab": {
          "base_uri": "https://localhost:8080/",
          "height": 266
        }
      },
      "source": [
        "REPLACE_BY_SPACE_RE = re.compile('[/(){}\\[\\]\\n\\r\\t\\|@,;]')\n",
        "BAD_SYMBOLS_RE = re.compile('[^0-9a-z #+_]')\n",
        "TELE_RE = re.compile('(\\d{3}[-\\.\\s]??\\d{3}[-\\.\\s]??\\d{4}|\\(\\d{3}\\)\\s*\\d{3}[-\\.\\s]??\\d{4}|\\d{3}[-\\.\\s]??\\d{4})')\n",
        "STOPWORDS = set(stopwords.words('english'))\n",
        "nltk.download('punkt')\n",
        "from nltk.stem import WordNetLemmatizer \n",
        "nltk.download('wordnet')\n",
        "\n",
        "def clean_text(text):\n",
        "    text = text.lower() # lowercase text\n",
        "    text = REPLACE_BY_SPACE_RE.sub(' ', text) # replace REPLACE_BY_SPACE_RE symbols by space in text    \n",
        "    text = TELE_RE.sub('tele_number', text) # replace TELE_RE symbols by tele number \n",
        "    \n",
        "    # HTML decoding\n",
        "    soup = BeautifulSoup(text, \"html.parser\")\n",
        "    for a in soup(\"a\"):\n",
        "      if a(\"img\"):\n",
        "        a.replace_with(\"image_with_link \") # clickable images\n",
        "        continue\n",
        "      a.replace_with(\"link \") # links\n",
        "    for img in soup(\"img\"):\n",
        "      img.replace_with(\"image \") #images\n",
        "    text = soup.get_text()\n",
        "    \n",
        "    text = BAD_SYMBOLS_RE.sub('', text) # delete symbols which are in BAD_SYMBOLS_RE from text\n",
        "    text = ' '.join(word for word in text.split() if word not in STOPWORDS) # delete stopwors from text\n",
        "    # Lemmatization\n",
        "    word_list = nltk.word_tokenize(text) # Tokenize: Split the sentence into words\n",
        "    lemmatizer = WordNetLemmatizer()\n",
        "    lemmatized_output = ' '.join([lemmatizer.lemmatize(w) for w in word_list]) # Lemmatize list of words and join\n",
        "    text = lemmatized_output\n",
        "\n",
        "    return text\n",
        "    \n",
        "df['body'] = df['body'].apply(clean_text)\n",
        "df.head()"
      ],
      "execution_count": 10,
      "outputs": [
        {
          "output_type": "stream",
          "text": [
            "[nltk_data] Downloading package punkt to /root/nltk_data...\n",
            "[nltk_data]   Unzipping tokenizers/punkt.zip.\n",
            "[nltk_data] Downloading package wordnet to /root/nltk_data...\n",
            "[nltk_data]   Unzipping corpora/wordnet.zip.\n"
          ],
          "name": "stdout"
        },
        {
          "output_type": "execute_result",
          "data": {
            "text/html": [
              "<div>\n",
              "<style scoped>\n",
              "    .dataframe tbody tr th:only-of-type {\n",
              "        vertical-align: middle;\n",
              "    }\n",
              "\n",
              "    .dataframe tbody tr th {\n",
              "        vertical-align: top;\n",
              "    }\n",
              "\n",
              "    .dataframe thead th {\n",
              "        text-align: right;\n",
              "    }\n",
              "</style>\n",
              "<table border=\"1\" class=\"dataframe\">\n",
              "  <thead>\n",
              "    <tr style=\"text-align: right;\">\n",
              "      <th></th>\n",
              "      <th>type</th>\n",
              "      <th>header</th>\n",
              "      <th>body</th>\n",
              "    </tr>\n",
              "  </thead>\n",
              "  <tbody>\n",
              "    <tr>\n",
              "      <th>0</th>\n",
              "      <td>spam</td>\n",
              "      <td>Return-Path: &lt;SRS0=EwcN5Z=VM=hasitems.com=sand...</td>\n",
              "      <td>title head image_with_link</td>\n",
              "    </tr>\n",
              "    <tr>\n",
              "      <th>1</th>\n",
              "      <td>ham</td>\n",
              "      <td>Message-ID: &lt;18531104.1075845109257.JavaMail.e...</td>\n",
              "      <td>see attached letter</td>\n",
              "    </tr>\n",
              "    <tr>\n",
              "      <th>2</th>\n",
              "      <td>ham</td>\n",
              "      <td>Message-ID: &lt;430403.1075852995713.JavaMail.eva...</td>\n",
              "      <td>working deal 3 year original message milnthorp...</td>\n",
              "    </tr>\n",
              "    <tr>\n",
              "      <th>3</th>\n",
              "      <td>ham</td>\n",
              "      <td>Message-ID: &lt;14521305.1075856608466.JavaMail.e...</td>\n",
              "      <td>vince fuel discussion john sheriff today mike ...</td>\n",
              "    </tr>\n",
              "    <tr>\n",
              "      <th>4</th>\n",
              "      <td>spam</td>\n",
              "      <td>Return-Path: &lt;SRS0=0K65w7=SS=exterten.top=nadi...</td>\n",
              "      <td>09 title head image_with_link</td>\n",
              "    </tr>\n",
              "  </tbody>\n",
              "</table>\n",
              "</div>"
            ],
            "text/plain": [
              "   type  ...                                               body\n",
              "0  spam  ...                         title head image_with_link\n",
              "1   ham  ...                                see attached letter\n",
              "2   ham  ...  working deal 3 year original message milnthorp...\n",
              "3   ham  ...  vince fuel discussion john sheriff today mike ...\n",
              "4  spam  ...                      09 title head image_with_link\n",
              "\n",
              "[5 rows x 3 columns]"
            ]
          },
          "metadata": {
            "tags": []
          },
          "execution_count": 10
        }
      ]
    },
    {
      "cell_type": "code",
      "metadata": {
        "id": "sVjEhbmFHsQa",
        "colab_type": "code",
        "outputId": "306de9ef-7dd0-47ea-dd6f-5ce10c837118",
        "colab": {
          "base_uri": "https://localhost:8080/",
          "height": 54
        }
      },
      "source": [
        "print(df.body[10])"
      ],
      "execution_count": 12,
      "outputs": [
        {
          "output_type": "stream",
          "text": [
            "anita problem vince anita dupont enron 08 18 2000 1027 shirley crenshaw hou ect ect cc vince j kaminski hou ect ect subject white wall board shirely amitava want one wall size white marker board office go ordering one anita\n"
          ],
          "name": "stdout"
        }
      ]
    },
    {
      "cell_type": "markdown",
      "metadata": {
        "id": "DeKjd5uRbIrY",
        "colab_type": "text"
      },
      "source": [
        "#### Save in drive for later use"
      ]
    },
    {
      "cell_type": "code",
      "metadata": {
        "id": "7iLqtb8WJRkk",
        "colab_type": "code",
        "colab": {}
      },
      "source": [
        "df.to_pickle('/content/drive/My Drive/Colab Notebooks/ham_2019spam_cleaned_df_v2') \n",
        "\n",
        "# use below if using this to obtain data of old emails for the real-life scenario\n",
        "# df.to_pickle('/content/drive/My Drive/Colab Notebooks/ham_old_spam_cleaned_df_v2') "
      ],
      "execution_count": 0,
      "outputs": []
    }
  ]
}