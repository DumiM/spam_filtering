{
  "nbformat": 4,
  "nbformat_minor": 0,
  "metadata": {
    "colab": {
      "name": "Idea Scenario - BoW.ipynb",
      "provenance": [],
      "collapsed_sections": [],
      "toc_visible": true,
      "machine_shape": "hm"
    },
    "kernelspec": {
      "name": "python3",
      "display_name": "Python 3"
    }
  },
  "cells": [
    {
      "cell_type": "markdown",
      "metadata": {
        "id": "PC98-ehpG_Sf",
        "colab_type": "text"
      },
      "source": [
        "# The process used in the Bag of Words methodology used for the Ideal Scneario"
      ]
    },
    {
      "cell_type": "code",
      "metadata": {
        "id": "8DfEc4uzEx3Q",
        "colab_type": "code",
        "colab": {}
      },
      "source": [
        "%matplotlib inline\n",
        "import re\n",
        "import enum\n",
        "import matplotlib\n",
        "import numpy as np\n",
        "import matplotlib.pyplot as plt\n",
        "import pandas as pd\n",
        "from sklearn.model_selection import train_test_split\n",
        "from sklearn.feature_extraction.text import TfidfVectorizer\n",
        "from sklearn.naive_bayes import MultinomialNB\n",
        "from sklearn.metrics import accuracy_score\n",
        "from sklearn.multiclass import OneVsRestClassifier\n",
        "from sklearn.svm import LinearSVC\n",
        "from sklearn.linear_model import LogisticRegression\n",
        "from sklearn.pipeline import Pipeline\n",
        "import seaborn as sns\n",
        "import json\n",
        "from pprint import pprint\n",
        "import csv\n",
        "from ast import literal_eval\n"
      ],
      "execution_count": 0,
      "outputs": []
    },
    {
      "cell_type": "code",
      "metadata": {
        "id": "g6f0z9yv5BHI",
        "colab_type": "code",
        "outputId": "fc704939-8140-4cb3-92a5-f84279a2f8b0",
        "colab": {
          "base_uri": "https://localhost:8080/",
          "height": 125
        }
      },
      "source": [
        "from google.colab import drive\n",
        "drive.mount('/content/drive')"
      ],
      "execution_count": 2,
      "outputs": [
        {
          "output_type": "stream",
          "text": [
            "Go to this URL in a browser: https://accounts.google.com/o/oauth2/auth?client_id=947318989803-6bn6qk8qdgf4n4g3pfee6491hc0brc4i.apps.googleusercontent.com&redirect_uri=urn%3Aietf%3Awg%3Aoauth%3A2.0%3Aoob&scope=email%20https%3A%2F%2Fwww.googleapis.com%2Fauth%2Fdocs.test%20https%3A%2F%2Fwww.googleapis.com%2Fauth%2Fdrive%20https%3A%2F%2Fwww.googleapis.com%2Fauth%2Fdrive.photos.readonly%20https%3A%2F%2Fwww.googleapis.com%2Fauth%2Fpeopleapi.readonly&response_type=code\n",
            "\n",
            "Enter your authorization code:\n",
            "··········\n",
            "Mounted at /content/drive\n"
          ],
          "name": "stdout"
        }
      ]
    },
    {
      "cell_type": "code",
      "metadata": {
        "id": "vwvLNdWLXC2X",
        "colab_type": "code",
        "outputId": "3573cdb2-ec3c-423e-f8f4-2759ec8276f2",
        "colab": {
          "base_uri": "https://localhost:8080/",
          "height": 195
        }
      },
      "source": [
        "df = pd.read_pickle('/content/drive/My Drive/Colab Notebooks/ham_2019spam_cleaned_df')\n",
        "\n",
        "df.head()"
      ],
      "execution_count": 3,
      "outputs": [
        {
          "output_type": "execute_result",
          "data": {
            "text/html": [
              "<div>\n",
              "<style scoped>\n",
              "    .dataframe tbody tr th:only-of-type {\n",
              "        vertical-align: middle;\n",
              "    }\n",
              "\n",
              "    .dataframe tbody tr th {\n",
              "        vertical-align: top;\n",
              "    }\n",
              "\n",
              "    .dataframe thead th {\n",
              "        text-align: right;\n",
              "    }\n",
              "</style>\n",
              "<table border=\"1\" class=\"dataframe\">\n",
              "  <thead>\n",
              "    <tr style=\"text-align: right;\">\n",
              "      <th></th>\n",
              "      <th>type</th>\n",
              "      <th>header</th>\n",
              "      <th>body</th>\n",
              "    </tr>\n",
              "  </thead>\n",
              "  <tbody>\n",
              "    <tr>\n",
              "      <th>0</th>\n",
              "      <td>ham</td>\n",
              "      <td>Message-ID: &lt;6759261.1075844047890.JavaMail.ev...</td>\n",
              "      <td>el paso south mainline shutin extended u trans...</td>\n",
              "    </tr>\n",
              "    <tr>\n",
              "      <th>1</th>\n",
              "      <td>spam</td>\n",
              "      <td>Return-Path: &lt;SRS0=DrM4gn=XY=velavi.monster=ho...</td>\n",
              "      <td>listener title head advertisement span p div d...</td>\n",
              "    </tr>\n",
              "    <tr>\n",
              "      <th>2</th>\n",
              "      <td>ham</td>\n",
              "      <td>Message-ID: &lt;23320673.1075852210910.JavaMail.e...</td>\n",
              "      <td>thank placing order footlockercom foot locker ...</td>\n",
              "    </tr>\n",
              "    <tr>\n",
              "      <th>3</th>\n",
              "      <td>spam</td>\n",
              "      <td>Return-Path: &lt;SRS0=gVZRij=UE=goldrushsimple.ag...</td>\n",
              "      <td>html p</td>\n",
              "    </tr>\n",
              "    <tr>\n",
              "      <th>4</th>\n",
              "      <td>spam</td>\n",
              "      <td>Return-Path: &lt;SRS0=GD8Svj=VG=focalify.wtf=dura...</td>\n",
              "      <td>alert tool banned amazon title head urgent new...</td>\n",
              "    </tr>\n",
              "  </tbody>\n",
              "</table>\n",
              "</div>"
            ],
            "text/plain": [
              "   type  ...                                               body\n",
              "0   ham  ...  el paso south mainline shutin extended u trans...\n",
              "1  spam  ...  listener title head advertisement span p div d...\n",
              "2   ham  ...  thank placing order footlockercom foot locker ...\n",
              "3  spam  ...                                             html p\n",
              "4  spam  ...  alert tool banned amazon title head urgent new...\n",
              "\n",
              "[5 rows x 3 columns]"
            ]
          },
          "metadata": {
            "tags": []
          },
          "execution_count": 3
        }
      ]
    },
    {
      "cell_type": "markdown",
      "metadata": {
        "id": "FnwKHuuaceXq",
        "colab_type": "text"
      },
      "source": [
        "## The classes"
      ]
    },
    {
      "cell_type": "code",
      "metadata": {
        "id": "5o4kUsfu5c5K",
        "colab_type": "code",
        "outputId": "01bba67c-713a-4a6b-e940-c97123d0973a",
        "colab": {
          "base_uri": "https://localhost:8080/",
          "height": 532
        }
      },
      "source": [
        "a = pd.Series([item for item in df.type])\n",
        "df_a = a.value_counts().sort_index().rename_axis('type').reset_index(name='f')\n",
        "df_a = df_a.set_index('type')\n",
        "\n",
        "plt.subplots(figsize=(18,8))\n",
        "df_a['f'].plot.bar()"
      ],
      "execution_count": 0,
      "outputs": [
        {
          "output_type": "execute_result",
          "data": {
            "text/plain": [
              "<matplotlib.axes._subplots.AxesSubplot at 0x7f01645fa908>"
            ]
          },
          "metadata": {
            "tags": []
          },
          "execution_count": 3
        },
        {
          "output_type": "display_data",
          "data": {
            "image/png": "[encoded data removed]",
            "text/plain": [
              "<Figure size 1296x576 with 1 Axes>"
            ]
          },
          "metadata": {
            "tags": []
          }
        }
      ]
    },
    {
      "cell_type": "code",
      "metadata": {
        "id": "jKh1YqNHUyCb",
        "colab_type": "code",
        "outputId": "553a7af0-91a8-4a4d-ace0-a486a5d638d0",
        "colab": {
          "base_uri": "https://localhost:8080/",
          "height": 136
        }
      },
      "source": [
        "df_a.head()\n",
        "# df.info()"
      ],
      "execution_count": 0,
      "outputs": [
        {
          "output_type": "execute_result",
          "data": {
            "text/html": [
              "<div>\n",
              "<style scoped>\n",
              "    .dataframe tbody tr th:only-of-type {\n",
              "        vertical-align: middle;\n",
              "    }\n",
              "\n",
              "    .dataframe tbody tr th {\n",
              "        vertical-align: top;\n",
              "    }\n",
              "\n",
              "    .dataframe thead th {\n",
              "        text-align: right;\n",
              "    }\n",
              "</style>\n",
              "<table border=\"1\" class=\"dataframe\">\n",
              "  <thead>\n",
              "    <tr style=\"text-align: right;\">\n",
              "      <th></th>\n",
              "      <th>f</th>\n",
              "    </tr>\n",
              "    <tr>\n",
              "      <th>type</th>\n",
              "      <th></th>\n",
              "    </tr>\n",
              "  </thead>\n",
              "  <tbody>\n",
              "    <tr>\n",
              "      <th>ham</th>\n",
              "      <td>17187</td>\n",
              "    </tr>\n",
              "    <tr>\n",
              "      <th>spam</th>\n",
              "      <td>15428</td>\n",
              "    </tr>\n",
              "  </tbody>\n",
              "</table>\n",
              "</div>"
            ],
            "text/plain": [
              "          f\n",
              "type       \n",
              "ham   17187\n",
              "spam  15428"
            ]
          },
          "metadata": {
            "tags": []
          },
          "execution_count": 4
        }
      ]
    },
    {
      "cell_type": "code",
      "metadata": {
        "id": "zqV7_lOCciQp",
        "colab_type": "code",
        "colab": {}
      },
      "source": [
        "## Split into train/using 80/20"
      ],
      "execution_count": 0,
      "outputs": []
    },
    {
      "cell_type": "code",
      "metadata": {
        "id": "5Z4GoFY8iUcd",
        "colab_type": "code",
        "colab": {}
      },
      "source": [
        "msk = np.random.rand(len(df)) < 0.8\n",
        "train = df[msk]\n",
        "test = df[~msk]\n",
        "df = train\n",
        "df_test = test"
      ],
      "execution_count": 0,
      "outputs": []
    },
    {
      "cell_type": "markdown",
      "metadata": {
        "colab_type": "text",
        "id": "ysZJqmRBg2m6"
      },
      "source": [
        "## Represent the cateogories using a number"
      ]
    },
    {
      "cell_type": "code",
      "metadata": {
        "colab_type": "code",
        "id": "kAhAbEa3g2m0",
        "colab": {
          "base_uri": "https://localhost:8080/",
          "height": 195
        },
        "outputId": "486911be-9327-43f4-8ff5-b736e56106e9"
      },
      "source": [
        "from io import StringIO\n",
        "\n",
        "# Train set\n",
        "df = df[pd.notnull(df['body'])]\n",
        "df['category_id'] = df['type'].factorize()[0]\n",
        "category_id_df = df[['type', 'category_id']].drop_duplicates().sort_values('category_id')\n",
        "category_to_id = dict(category_id_df.values)\n",
        "id_to_category = dict(category_id_df[['category_id', 'type']].values)\n",
        "df.head()\n",
        "\n",
        "# Test set\n",
        "df_test = df_test[pd.notnull(df_test['body'])]\n",
        "df_test['category_id'] = df_test['type'].factorize()[0]\n",
        "category_id_df = df_test[['type', 'category_id']].drop_duplicates().sort_values('category_id')\n",
        "category_to_id = dict(category_id_df.values)\n",
        "id_to_category = dict(category_id_df[['category_id', 'type']].values)\n",
        "\n",
        "df_test.head()"
      ],
      "execution_count": 5,
      "outputs": [
        {
          "output_type": "execute_result",
          "data": {
            "text/html": [
              "<div>\n",
              "<style scoped>\n",
              "    .dataframe tbody tr th:only-of-type {\n",
              "        vertical-align: middle;\n",
              "    }\n",
              "\n",
              "    .dataframe tbody tr th {\n",
              "        vertical-align: top;\n",
              "    }\n",
              "\n",
              "    .dataframe thead th {\n",
              "        text-align: right;\n",
              "    }\n",
              "</style>\n",
              "<table border=\"1\" class=\"dataframe\">\n",
              "  <thead>\n",
              "    <tr style=\"text-align: right;\">\n",
              "      <th></th>\n",
              "      <th>type</th>\n",
              "      <th>header</th>\n",
              "      <th>body</th>\n",
              "      <th>category_id</th>\n",
              "    </tr>\n",
              "  </thead>\n",
              "  <tbody>\n",
              "    <tr>\n",
              "      <th>0</th>\n",
              "      <td>ham</td>\n",
              "      <td>Message-ID: &lt;6759261.1075844047890.JavaMail.ev...</td>\n",
              "      <td>el paso south mainline shutin extended u trans...</td>\n",
              "      <td>0</td>\n",
              "    </tr>\n",
              "    <tr>\n",
              "      <th>6</th>\n",
              "      <td>spam</td>\n",
              "      <td>Return-Path: &lt;SRS0=vQdNUx=UZ=http-b3s.ooo=elli...</td>\n",
              "      <td>amazing deal title head p td tr td tr longer w...</td>\n",
              "      <td>1</td>\n",
              "    </tr>\n",
              "    <tr>\n",
              "      <th>11</th>\n",
              "      <td>spam</td>\n",
              "      <td>Return-Path: &lt;SRS0=X86bJz=VM=health-cpa.com=mo...</td>\n",
              "      <td></td>\n",
              "      <td>1</td>\n",
              "    </tr>\n",
              "    <tr>\n",
              "      <th>18</th>\n",
              "      <td>ham</td>\n",
              "      <td>Message-ID: &lt;12254969.1075856639867.JavaMail.e...</td>\n",
              "      <td>beth would appreciate see 1145 tomorrow vince ...</td>\n",
              "      <td>0</td>\n",
              "    </tr>\n",
              "    <tr>\n",
              "      <th>20</th>\n",
              "      <td>ham</td>\n",
              "      <td>Message-ID: &lt;9754400.1075863707450.JavaMail.ev...</td>\n",
              "      <td>vince next time program offered ca october see...</td>\n",
              "      <td>0</td>\n",
              "    </tr>\n",
              "  </tbody>\n",
              "</table>\n",
              "</div>"
            ],
            "text/plain": [
              "    type  ... category_id\n",
              "0    ham  ...           0\n",
              "6   spam  ...           1\n",
              "11  spam  ...           1\n",
              "18   ham  ...           0\n",
              "20   ham  ...           0\n",
              "\n",
              "[5 rows x 4 columns]"
            ]
          },
          "metadata": {
            "tags": []
          },
          "execution_count": 5
        }
      ]
    },
    {
      "cell_type": "code",
      "metadata": {
        "colab_type": "code",
        "outputId": "e631fa75-2bf9-4104-f476-7591b20f296e",
        "id": "YrNIRK6Yg2ms",
        "colab": {
          "base_uri": "https://localhost:8080/",
          "height": 34
        }
      },
      "source": [
        "print(category_to_id)"
      ],
      "execution_count": 6,
      "outputs": [
        {
          "output_type": "stream",
          "text": [
            "{'ham': 0, 'spam': 1}\n"
          ],
          "name": "stdout"
        }
      ]
    },
    {
      "cell_type": "markdown",
      "metadata": {
        "id": "6JcX0GGBdMLa",
        "colab_type": "text"
      },
      "source": [
        "## Feature Extraction"
      ]
    },
    {
      "cell_type": "code",
      "metadata": {
        "id": "iJ-mMBltBnEk",
        "colab_type": "code",
        "colab": {}
      },
      "source": [
        "from sklearn.model_selection import train_test_split\n",
        "from sklearn.feature_extraction.text import CountVectorizer\n",
        "from sklearn.feature_extraction.text import TfidfTransformer\n",
        "from sklearn.naive_bayes import MultinomialNB, GaussianNB, BernoulliNB\n",
        "from sklearn import metrics\n",
        "\n",
        "X_train = df['body']\n",
        "X_test = df_test['body']\n",
        "y_train = df['type']\n",
        "y_test = df_test['type']\n",
        "\n",
        "\n",
        "vectorizer = CountVectorizer() #BoW count\n",
        "X_train = vectorizer.fit_transform(X_train)\n",
        "X_test = vectorizer.transform(X_test)"
      ],
      "execution_count": 0,
      "outputs": []
    },
    {
      "cell_type": "markdown",
      "metadata": {
        "id": "tIrCf_z9pUpB",
        "colab_type": "text"
      },
      "source": [
        "## Benchmarking results of 4 different ML models\n",
        "- Logistic Regression\n",
        "- (Multinomial) Naive Bayes\n",
        "- Linear Support Vector Machine\n",
        "- Random Forest"
      ]
    },
    {
      "cell_type": "code",
      "metadata": {
        "id": "y6PypJt9UtSy",
        "colab_type": "code",
        "colab": {
          "base_uri": "https://localhost:8080/",
          "height": 987
        },
        "outputId": "15aab927-861c-4d98-9222-2b21ad31c729"
      },
      "source": [
        "from sklearn.linear_model import LogisticRegression\n",
        "from sklearn.ensemble import RandomForestClassifier\n",
        "from sklearn.svm import SVC, NuSVC, LinearSVC\n",
        "from sklearn.model_selection import cross_val_score\n",
        "\n",
        "# use pipeline\n",
        "\n",
        "models = [\n",
        "    RandomForestClassifier(n_estimators=200, max_depth=3, random_state=0),\n",
        "    LinearSVC(),\n",
        "    MultinomialNB(),\n",
        "    BernoulliNB(),\n",
        "    LogisticRegression(random_state=0),\n",
        "]\n",
        "\n",
        "\n",
        "for model in models:\n",
        "  model_name = model.__class__.__name__\n",
        "  model.fit(X_train,y_train)\n",
        "  y_pred = model.predict(X_test)\n",
        "  print(model_name)\n",
        "  print(metrics.classification_report(y_test,y_pred))"
      ],
      "execution_count": 9,
      "outputs": [
        {
          "output_type": "stream",
          "text": [
            "RandomForestClassifier\n",
            "              precision    recall  f1-score   support\n",
            "\n",
            "         ham       0.65      1.00      0.78      3443\n",
            "        spam       1.00      0.38      0.55      3058\n",
            "\n",
            "    accuracy                           0.71      6501\n",
            "   macro avg       0.82      0.69      0.67      6501\n",
            "weighted avg       0.81      0.71      0.68      6501\n",
            "\n"
          ],
          "name": "stdout"
        },
        {
          "output_type": "stream",
          "text": [
            "/usr/local/lib/python3.6/dist-packages/sklearn/svm/base.py:929: ConvergenceWarning: Liblinear failed to converge, increase the number of iterations.\n",
            "  \"the number of iterations.\", ConvergenceWarning)\n"
          ],
          "name": "stderr"
        },
        {
          "output_type": "stream",
          "text": [
            "LinearSVC\n",
            "              precision    recall  f1-score   support\n",
            "\n",
            "         ham       0.99      0.99      0.99      3443\n",
            "        spam       0.98      0.99      0.99      3058\n",
            "\n",
            "    accuracy                           0.99      6501\n",
            "   macro avg       0.99      0.99      0.99      6501\n",
            "weighted avg       0.99      0.99      0.99      6501\n",
            "\n",
            "MultinomialNB\n",
            "              precision    recall  f1-score   support\n",
            "\n",
            "         ham       0.95      1.00      0.97      3443\n",
            "        spam       1.00      0.94      0.97      3058\n",
            "\n",
            "    accuracy                           0.97      6501\n",
            "   macro avg       0.97      0.97      0.97      6501\n",
            "weighted avg       0.97      0.97      0.97      6501\n",
            "\n",
            "BernoulliNB\n",
            "              precision    recall  f1-score   support\n",
            "\n",
            "         ham       0.68      1.00      0.81      3443\n",
            "        spam       1.00      0.47      0.64      3058\n",
            "\n",
            "    accuracy                           0.75      6501\n",
            "   macro avg       0.84      0.73      0.72      6501\n",
            "weighted avg       0.83      0.75      0.73      6501\n",
            "\n"
          ],
          "name": "stdout"
        },
        {
          "output_type": "stream",
          "text": [
            "/usr/local/lib/python3.6/dist-packages/sklearn/linear_model/logistic.py:432: FutureWarning: Default solver will be changed to 'lbfgs' in 0.22. Specify a solver to silence this warning.\n",
            "  FutureWarning)\n"
          ],
          "name": "stderr"
        },
        {
          "output_type": "stream",
          "text": [
            "LogisticRegression\n",
            "              precision    recall  f1-score   support\n",
            "\n",
            "         ham       1.00      1.00      1.00      3443\n",
            "        spam       1.00      1.00      1.00      3058\n",
            "\n",
            "    accuracy                           1.00      6501\n",
            "   macro avg       1.00      1.00      1.00      6501\n",
            "weighted avg       1.00      1.00      1.00      6501\n",
            "\n"
          ],
          "name": "stdout"
        }
      ]
    },
    {
      "cell_type": "markdown",
      "metadata": {
        "colab_type": "text",
        "id": "_jUO68KJeF10"
      },
      "source": [
        "The best model seems to be LogisticRegression\n",
        "\n",
        "Lets test it:"
      ]
    },
    {
      "cell_type": "code",
      "metadata": {
        "colab_type": "code",
        "outputId": "ff85b6e3-0a5d-48ff-9ef4-4c5192e4bdd3",
        "id": "Uqv3eE6AeJua",
        "colab": {
          "base_uri": "https://localhost:8080/",
          "height": 90
        }
      },
      "source": [
        "lr = LogisticRegression(random_state=0)\n",
        "lr.fit(X_train,y_train)\n",
        "y_pred = lr.predict(X_test)\n",
        "print(lr.predict(vectorizer.transform([\"hi how are you office\"])))"
      ],
      "execution_count": 0,
      "outputs": [
        {
          "output_type": "stream",
          "text": [
            "/usr/local/lib/python3.6/dist-packages/sklearn/linear_model/logistic.py:432: FutureWarning: Default solver will be changed to 'lbfgs' in 0.22. Specify a solver to silence this warning.\n",
            "  FutureWarning)\n"
          ],
          "name": "stderr"
        },
        {
          "output_type": "stream",
          "text": [
            "['ham']\n"
          ],
          "name": "stdout"
        }
      ]
    },
    {
      "cell_type": "code",
      "metadata": {
        "colab_type": "code",
        "outputId": "155adad5-766f-4f57-a914-ab1cc50c02d5",
        "id": "4AshmV7IeIbf",
        "colab": {
          "base_uri": "https://localhost:8080/",
          "height": 34
        }
      },
      "source": [
        "print(lr.predict(vectorizer.transform([\"Buy Viagra instant cheap easy\"])))"
      ],
      "execution_count": 0,
      "outputs": [
        {
          "output_type": "stream",
          "text": [
            "['spam']\n"
          ],
          "name": "stdout"
        }
      ]
    },
    {
      "cell_type": "markdown",
      "metadata": {
        "id": "Ak4DMzCOwTeB",
        "colab_type": "text"
      },
      "source": [
        "## Save model"
      ]
    },
    {
      "cell_type": "code",
      "metadata": {
        "id": "_kjWpEBuwtSp",
        "colab_type": "code",
        "colab": {}
      },
      "source": [
        "import pickle \n",
        "# Save the trained model as a pickle string. \n",
        "with open('/content/drive/My Drive/Colab Notebooks/ideal_bow_model.pickle', 'wb') as handle:\n",
        "    pickle.dump(lr, handle)\n",
        "\n",
        "# Load the pickled model \n",
        "with open('/content/drive/My Drive/Colab Notebooks/ideal_bow_model.pickle', 'rb') as saved_model:\n",
        "    lr_from_pickle = pickle.load(saved_model)\n",
        "  \n"
      ],
      "execution_count": 0,
      "outputs": []
    },
    {
      "cell_type": "markdown",
      "metadata": {
        "id": "iYnyMxWRfrHn",
        "colab_type": "text"
      },
      "source": [
        "#### Use the loaded pickled model to make predictions "
      ]
    },
    {
      "cell_type": "code",
      "metadata": {
        "id": "xDRCD6aKfnp2",
        "colab_type": "code",
        "colab": {
          "base_uri": "https://localhost:8080/",
          "height": 34
        },
        "outputId": "bff237dd-f98e-46da-9335-523853e7e4f2"
      },
      "source": [
        "lr_from_pickle.predict(vectorizer.transform([\"Buy Viagra instant cheap easy\"])) "
      ],
      "execution_count": 19,
      "outputs": [
        {
          "output_type": "execute_result",
          "data": {
            "text/plain": [
              "array(['spam'], dtype=object)"
            ]
          },
          "metadata": {
            "tags": []
          },
          "execution_count": 19
        }
      ]
    }
  ]
}