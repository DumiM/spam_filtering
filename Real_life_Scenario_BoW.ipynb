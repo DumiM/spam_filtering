{
  "nbformat": 4,
  "nbformat_minor": 0,
  "metadata": {
    "colab": {
      "name": "Real-life Scenario - BoW.ipynb",
      "provenance": [],
      "collapsed_sections": [],
      "toc_visible": true,
      "machine_shape": "hm"
    },
    "kernelspec": {
      "name": "python3",
      "display_name": "Python 3"
    }
  },
  "cells": [
    {
      "cell_type": "markdown",
      "metadata": {
        "id": "PC98-ehpG_Sf",
        "colab_type": "text"
      },
      "source": [
        "# The process used in the Bag of Words methodology used for the Real-life Scneario"
      ]
    },
    {
      "cell_type": "code",
      "metadata": {
        "id": "8DfEc4uzEx3Q",
        "colab_type": "code",
        "colab": {}
      },
      "source": [
        "%matplotlib inline\n",
        "import re\n",
        "import enum\n",
        "import matplotlib\n",
        "import numpy as np\n",
        "import matplotlib.pyplot as plt\n",
        "import pandas as pd\n",
        "from sklearn.model_selection import train_test_split\n",
        "from sklearn.feature_extraction.text import TfidfVectorizer\n",
        "from sklearn.naive_bayes import MultinomialNB\n",
        "from sklearn.metrics import accuracy_score\n",
        "from sklearn.multiclass import OneVsRestClassifier\n",
        "from sklearn.svm import LinearSVC\n",
        "from sklearn.linear_model import LogisticRegression\n",
        "from sklearn.pipeline import Pipeline\n",
        "import seaborn as sns\n",
        "import json\n",
        "from pprint import pprint\n",
        "import csv\n",
        "from ast import literal_eval\n"
      ],
      "execution_count": 0,
      "outputs": []
    },
    {
      "cell_type": "code",
      "metadata": {
        "id": "g6f0z9yv5BHI",
        "colab_type": "code",
        "outputId": "7318035b-6152-4805-e225-559aa7072229",
        "colab": {
          "base_uri": "https://localhost:8080/",
          "height": 125
        }
      },
      "source": [
        "from google.colab import drive\n",
        "drive.mount('/content/drive')"
      ],
      "execution_count": 2,
      "outputs": [
        {
          "output_type": "stream",
          "text": [
            "Go to this URL in a browser: https://accounts.google.com/o/oauth2/auth?client_id=947318989803-6bn6qk8qdgf4n4g3pfee6491hc0brc4i.apps.googleusercontent.com&redirect_uri=urn%3Aietf%3Awg%3Aoauth%3A2.0%3Aoob&scope=email%20https%3A%2F%2Fwww.googleapis.com%2Fauth%2Fdocs.test%20https%3A%2F%2Fwww.googleapis.com%2Fauth%2Fdrive%20https%3A%2F%2Fwww.googleapis.com%2Fauth%2Fdrive.photos.readonly%20https%3A%2F%2Fwww.googleapis.com%2Fauth%2Fpeopleapi.readonly&response_type=code\n",
            "\n",
            "Enter your authorization code:\n",
            "··········\n",
            "Mounted at /content/drive\n"
          ],
          "name": "stdout"
        }
      ]
    },
    {
      "cell_type": "code",
      "metadata": {
        "id": "vwvLNdWLXC2X",
        "colab_type": "code",
        "outputId": "1d9ff2f7-7687-4b8c-e10f-f16a8632404c",
        "colab": {
          "base_uri": "https://localhost:8080/",
          "height": 195
        }
      },
      "source": [
        "df_test = pd.read_pickle('/content/drive/My Drive/Colab Notebooks/ham_2019spam_cleaned_df')\n",
        "df_train = pd.read_pickle('/content/drive/My Drive/Colab Notebooks/ham_old_spam_cleaned_df')\n",
        "\n",
        "df_train.head()"
      ],
      "execution_count": 3,
      "outputs": [
        {
          "output_type": "execute_result",
          "data": {
            "text/html": [
              "<div>\n",
              "<style scoped>\n",
              "    .dataframe tbody tr th:only-of-type {\n",
              "        vertical-align: middle;\n",
              "    }\n",
              "\n",
              "    .dataframe tbody tr th {\n",
              "        vertical-align: top;\n",
              "    }\n",
              "\n",
              "    .dataframe thead th {\n",
              "        text-align: right;\n",
              "    }\n",
              "</style>\n",
              "<table border=\"1\" class=\"dataframe\">\n",
              "  <thead>\n",
              "    <tr style=\"text-align: right;\">\n",
              "      <th></th>\n",
              "      <th>type</th>\n",
              "      <th>header</th>\n",
              "      <th>body</th>\n",
              "    </tr>\n",
              "  </thead>\n",
              "  <tbody>\n",
              "    <tr>\n",
              "      <th>0</th>\n",
              "      <td>ham</td>\n",
              "      <td>Message-ID: &lt;1517662.1075854248687.JavaMail.ev...</td>\n",
              "      <td>entered deal sitara supply deal 384247 384237 ...</td>\n",
              "    </tr>\n",
              "    <tr>\n",
              "      <th>1</th>\n",
              "      <td>ham</td>\n",
              "      <td>Message-ID: &lt;26622782.1075839965829.JavaMail.e...</td>\n",
              "      <td>ancillary schedule awarded variance detected v...</td>\n",
              "    </tr>\n",
              "    <tr>\n",
              "      <th>2</th>\n",
              "      <td>ham</td>\n",
              "      <td>Message-ID: &lt;19763058.1075840867885.JavaMail.e...</td>\n",
              "      <td>louise see article enron compression gas daily...</td>\n",
              "    </tr>\n",
              "    <tr>\n",
              "      <th>3</th>\n",
              "      <td>ham</td>\n",
              "      <td>Message-ID: &lt;16228448.1075840826176.JavaMail.e...</td>\n",
              "      <td>please find attached article financial time se...</td>\n",
              "    </tr>\n",
              "    <tr>\n",
              "      <th>4</th>\n",
              "      <td>ham</td>\n",
              "      <td>Message-ID: &lt;11825751.1075856626577.JavaMail.e...</td>\n",
              "      <td>brian problem vince brian corbett nelson 04 26...</td>\n",
              "    </tr>\n",
              "  </tbody>\n",
              "</table>\n",
              "</div>"
            ],
            "text/plain": [
              "  type  ...                                               body\n",
              "0  ham  ...  entered deal sitara supply deal 384247 384237 ...\n",
              "1  ham  ...  ancillary schedule awarded variance detected v...\n",
              "2  ham  ...  louise see article enron compression gas daily...\n",
              "3  ham  ...  please find attached article financial time se...\n",
              "4  ham  ...  brian problem vince brian corbett nelson 04 26...\n",
              "\n",
              "[5 rows x 3 columns]"
            ]
          },
          "metadata": {
            "tags": []
          },
          "execution_count": 3
        }
      ]
    },
    {
      "cell_type": "markdown",
      "metadata": {
        "id": "cFq5BnfcgXHm",
        "colab_type": "text"
      },
      "source": [
        "## The classes"
      ]
    },
    {
      "cell_type": "code",
      "metadata": {
        "id": "5o4kUsfu5c5K",
        "colab_type": "code",
        "outputId": "84bd30a0-dab4-4184-f894-262f53bbd0d3",
        "colab": {
          "base_uri": "https://localhost:8080/",
          "height": 532
        }
      },
      "source": [
        "a = pd.Series([item for item in df_train.type])\n",
        "df_a = a.value_counts().sort_index().rename_axis('type').reset_index(name='f')\n",
        "# df_a.head()\n",
        "df_a = df_a.set_index('type')\n",
        "# df_a.info()\n",
        "\n",
        "plt.subplots(figsize=(18,8))\n",
        "df_a['f'].plot.bar()"
      ],
      "execution_count": 28,
      "outputs": [
        {
          "output_type": "execute_result",
          "data": {
            "text/plain": [
              "<matplotlib.axes._subplots.AxesSubplot at 0x7f7b71c86080>"
            ]
          },
          "metadata": {
            "tags": []
          },
          "execution_count": 28
        },
        {
          "output_type": "display_data",
          "data": {
            "image/png": "[encoded data removed]",
            "text/plain": [
              "<Figure size 1296x576 with 1 Axes>"
            ]
          },
          "metadata": {
            "tags": []
          }
        }
      ]
    },
    {
      "cell_type": "code",
      "metadata": {
        "id": "jKh1YqNHUyCb",
        "colab_type": "code",
        "outputId": "3b034fac-d436-44be-d85c-ba86fa824d09",
        "colab": {
          "base_uri": "https://localhost:8080/",
          "height": 136
        }
      },
      "source": [
        "df_a.head()"
      ],
      "execution_count": 6,
      "outputs": [
        {
          "output_type": "execute_result",
          "data": {
            "text/html": [
              "<div>\n",
              "<style scoped>\n",
              "    .dataframe tbody tr th:only-of-type {\n",
              "        vertical-align: middle;\n",
              "    }\n",
              "\n",
              "    .dataframe tbody tr th {\n",
              "        vertical-align: top;\n",
              "    }\n",
              "\n",
              "    .dataframe thead th {\n",
              "        text-align: right;\n",
              "    }\n",
              "</style>\n",
              "<table border=\"1\" class=\"dataframe\">\n",
              "  <thead>\n",
              "    <tr style=\"text-align: right;\">\n",
              "      <th></th>\n",
              "      <th>f</th>\n",
              "    </tr>\n",
              "    <tr>\n",
              "      <th>type</th>\n",
              "      <th></th>\n",
              "    </tr>\n",
              "  </thead>\n",
              "  <tbody>\n",
              "    <tr>\n",
              "      <th>ham</th>\n",
              "      <td>17187</td>\n",
              "    </tr>\n",
              "    <tr>\n",
              "      <th>spam</th>\n",
              "      <td>2872</td>\n",
              "    </tr>\n",
              "  </tbody>\n",
              "</table>\n",
              "</div>"
            ],
            "text/plain": [
              "          f\n",
              "type       \n",
              "ham   17187\n",
              "spam   2872"
            ]
          },
          "metadata": {
            "tags": []
          },
          "execution_count": 6
        }
      ]
    },
    {
      "cell_type": "code",
      "metadata": {
        "id": "5Z4GoFY8iUcd",
        "colab_type": "code",
        "colab": {}
      },
      "source": [
        "df = df_train"
      ],
      "execution_count": 0,
      "outputs": []
    },
    {
      "cell_type": "markdown",
      "metadata": {
        "colab_type": "text",
        "id": "ysZJqmRBg2m6"
      },
      "source": [
        "## Represent the cateogories using a number"
      ]
    },
    {
      "cell_type": "code",
      "metadata": {
        "colab_type": "code",
        "id": "kAhAbEa3g2m0",
        "colab": {}
      },
      "source": [
        "from io import StringIO\n",
        "\n",
        "# Train set\n",
        "df = df[pd.notnull(df['body'])]\n",
        "df['category_id'] = df['type'].factorize()[0]\n",
        "category_id_df = df[['type', 'category_id']].drop_duplicates().sort_values('category_id')\n",
        "category_to_id = dict(category_id_df.values)\n",
        "id_to_category = dict(category_id_df[['category_id', 'type']].values)\n",
        "df.head()\n",
        "\n",
        "# Test set\n",
        "df_test = df_test[pd.notnull(df_test['body'])]\n",
        "df_test['category_id'] = df_test['type'].factorize()[0]\n",
        "category_id_df = df_test[['type', 'category_id']].drop_duplicates().sort_values('category_id')\n",
        "category_to_id = dict(category_id_df.values)\n",
        "id_to_category = dict(category_id_df[['category_id', 'type']].values)\n"
      ],
      "execution_count": 0,
      "outputs": []
    },
    {
      "cell_type": "code",
      "metadata": {
        "id": "angBJUjCPD-g",
        "colab_type": "code",
        "colab": {
          "base_uri": "https://localhost:8080/",
          "height": 195
        },
        "outputId": "a772279d-501e-41ec-dcb9-f264654eb974"
      },
      "source": [
        "df_test.head()"
      ],
      "execution_count": 8,
      "outputs": [
        {
          "output_type": "execute_result",
          "data": {
            "text/html": [
              "<div>\n",
              "<style scoped>\n",
              "    .dataframe tbody tr th:only-of-type {\n",
              "        vertical-align: middle;\n",
              "    }\n",
              "\n",
              "    .dataframe tbody tr th {\n",
              "        vertical-align: top;\n",
              "    }\n",
              "\n",
              "    .dataframe thead th {\n",
              "        text-align: right;\n",
              "    }\n",
              "</style>\n",
              "<table border=\"1\" class=\"dataframe\">\n",
              "  <thead>\n",
              "    <tr style=\"text-align: right;\">\n",
              "      <th></th>\n",
              "      <th>type</th>\n",
              "      <th>header</th>\n",
              "      <th>body</th>\n",
              "      <th>category_id</th>\n",
              "    </tr>\n",
              "  </thead>\n",
              "  <tbody>\n",
              "    <tr>\n",
              "      <th>0</th>\n",
              "      <td>ham</td>\n",
              "      <td>Message-ID: &lt;6759261.1075844047890.JavaMail.ev...</td>\n",
              "      <td>el paso south mainline shutin extended u trans...</td>\n",
              "      <td>0</td>\n",
              "    </tr>\n",
              "    <tr>\n",
              "      <th>1</th>\n",
              "      <td>spam</td>\n",
              "      <td>Return-Path: &lt;SRS0=DrM4gn=XY=velavi.monster=ho...</td>\n",
              "      <td>listener title head advertisement span p div d...</td>\n",
              "      <td>1</td>\n",
              "    </tr>\n",
              "    <tr>\n",
              "      <th>2</th>\n",
              "      <td>ham</td>\n",
              "      <td>Message-ID: &lt;23320673.1075852210910.JavaMail.e...</td>\n",
              "      <td>thank placing order footlockercom foot locker ...</td>\n",
              "      <td>0</td>\n",
              "    </tr>\n",
              "    <tr>\n",
              "      <th>3</th>\n",
              "      <td>spam</td>\n",
              "      <td>Return-Path: &lt;SRS0=gVZRij=UE=goldrushsimple.ag...</td>\n",
              "      <td>html p</td>\n",
              "      <td>1</td>\n",
              "    </tr>\n",
              "    <tr>\n",
              "      <th>4</th>\n",
              "      <td>spam</td>\n",
              "      <td>Return-Path: &lt;SRS0=GD8Svj=VG=focalify.wtf=dura...</td>\n",
              "      <td>alert tool banned amazon title head urgent new...</td>\n",
              "      <td>1</td>\n",
              "    </tr>\n",
              "  </tbody>\n",
              "</table>\n",
              "</div>"
            ],
            "text/plain": [
              "   type  ... category_id\n",
              "0   ham  ...           0\n",
              "1  spam  ...           1\n",
              "2   ham  ...           0\n",
              "3  spam  ...           1\n",
              "4  spam  ...           1\n",
              "\n",
              "[5 rows x 4 columns]"
            ]
          },
          "metadata": {
            "tags": []
          },
          "execution_count": 8
        }
      ]
    },
    {
      "cell_type": "code",
      "metadata": {
        "colab_type": "code",
        "outputId": "5398491c-b55a-4af3-f32d-d239c95321f3",
        "id": "YrNIRK6Yg2ms",
        "colab": {
          "base_uri": "https://localhost:8080/",
          "height": 34
        }
      },
      "source": [
        "print(category_to_id)"
      ],
      "execution_count": 9,
      "outputs": [
        {
          "output_type": "stream",
          "text": [
            "{'ham': 0, 'spam': 1}\n"
          ],
          "name": "stdout"
        }
      ]
    },
    {
      "cell_type": "markdown",
      "metadata": {
        "id": "Tf1Y4nvIn25l",
        "colab_type": "text"
      },
      "source": [
        "## Feature Extraction"
      ]
    },
    {
      "cell_type": "code",
      "metadata": {
        "id": "iJ-mMBltBnEk",
        "colab_type": "code",
        "colab": {}
      },
      "source": [
        "from sklearn.model_selection import train_test_split\n",
        "from sklearn.feature_extraction.text import CountVectorizer\n",
        "from sklearn.feature_extraction.text import TfidfTransformer\n",
        "from sklearn.naive_bayes import MultinomialNB, GaussianNB, BernoulliNB\n",
        "from sklearn import metrics\n",
        "\n",
        "X_train = df['body']\n",
        "X_test = df_test['body']\n",
        "y_train = df['type']\n",
        "y_test = df_test['type']\n",
        "\n",
        "\n",
        "vectorizer = CountVectorizer() #BoW count\n",
        "X_train = vectorizer.fit_transform(X_train)\n",
        "X_test = vectorizer.transform(X_test)"
      ],
      "execution_count": 0,
      "outputs": []
    },
    {
      "cell_type": "markdown",
      "metadata": {
        "id": "tIrCf_z9pUpB",
        "colab_type": "text"
      },
      "source": [
        "## Benchmarking results of 4 different ML models\n",
        "- Logistic Regression\n",
        "- (Multinomial) Naive Bayes\n",
        "- Linear Support Vector Machine\n",
        "- Random Forest"
      ]
    },
    {
      "cell_type": "code",
      "metadata": {
        "id": "jnd7xdqQle6Z",
        "colab_type": "code",
        "outputId": "81ddb737-7e96-428d-86e3-d3791ecb8ff9",
        "colab": {
          "base_uri": "https://localhost:8080/",
          "height": 1000
        }
      },
      "source": [
        "from sklearn.linear_model import LogisticRegression\n",
        "from sklearn.ensemble import RandomForestClassifier\n",
        "from sklearn.svm import SVC, NuSVC, LinearSVC\n",
        "from sklearn.model_selection import cross_val_score\n",
        "\n",
        "models = [\n",
        "    RandomForestClassifier(n_estimators=200, max_depth=3, random_state=0),\n",
        "    LinearSVC(),\n",
        "    MultinomialNB(),\n",
        "    BernoulliNB(),\n",
        "    LogisticRegression(random_state=0),\n",
        "]\n",
        "\n",
        "\n",
        "for model in models:\n",
        "  model_name = model.__class__.__name__\n",
        "  model.fit(X_train,y_train)\n",
        "  y_pred = model.predict(X_test)\n",
        "  print(model_name)\n",
        "  print(metrics.classification_report(y_test,y_pred))"
      ],
      "execution_count": 7,
      "outputs": [
        {
          "output_type": "stream",
          "text": [
            "RandomForestClassifier\n"
          ],
          "name": "stdout"
        },
        {
          "output_type": "stream",
          "text": [
            "/usr/local/lib/python3.6/dist-packages/sklearn/metrics/classification.py:1437: UndefinedMetricWarning: Precision and F-score are ill-defined and being set to 0.0 in labels with no predicted samples.\n",
            "  'precision', 'predicted', average, warn_for)\n"
          ],
          "name": "stderr"
        },
        {
          "output_type": "stream",
          "text": [
            "              precision    recall  f1-score   support\n",
            "\n",
            "         ham       0.53      1.00      0.69     17187\n",
            "        spam       0.00      0.00      0.00     15428\n",
            "\n",
            "    accuracy                           0.53     32615\n",
            "   macro avg       0.26      0.50      0.35     32615\n",
            "weighted avg       0.28      0.53      0.36     32615\n",
            "\n"
          ],
          "name": "stdout"
        },
        {
          "output_type": "stream",
          "text": [
            "/usr/local/lib/python3.6/dist-packages/sklearn/svm/base.py:929: ConvergenceWarning: Liblinear failed to converge, increase the number of iterations.\n",
            "  \"the number of iterations.\", ConvergenceWarning)\n"
          ],
          "name": "stderr"
        },
        {
          "output_type": "stream",
          "text": [
            "LinearSVC\n",
            "              precision    recall  f1-score   support\n",
            "\n",
            "         ham       0.73      1.00      0.85     17187\n",
            "        spam       1.00      0.60      0.75     15428\n",
            "\n",
            "    accuracy                           0.81     32615\n",
            "   macro avg       0.87      0.80      0.80     32615\n",
            "weighted avg       0.86      0.81      0.80     32615\n",
            "\n",
            "MultinomialNB\n",
            "              precision    recall  f1-score   support\n",
            "\n",
            "         ham       0.70      0.99      0.82     17187\n",
            "        spam       0.98      0.52      0.68     15428\n",
            "\n",
            "    accuracy                           0.77     32615\n",
            "   macro avg       0.84      0.75      0.75     32615\n",
            "weighted avg       0.83      0.77      0.75     32615\n",
            "\n",
            "BernoulliNB\n",
            "              precision    recall  f1-score   support\n",
            "\n",
            "         ham       0.64      1.00      0.78     17187\n",
            "        spam       0.99      0.38      0.54     15428\n",
            "\n",
            "    accuracy                           0.70     32615\n",
            "   macro avg       0.81      0.69      0.66     32615\n",
            "weighted avg       0.80      0.70      0.67     32615\n",
            "\n"
          ],
          "name": "stdout"
        },
        {
          "output_type": "stream",
          "text": [
            "/usr/local/lib/python3.6/dist-packages/sklearn/linear_model/logistic.py:432: FutureWarning: Default solver will be changed to 'lbfgs' in 0.22. Specify a solver to silence this warning.\n",
            "  FutureWarning)\n"
          ],
          "name": "stderr"
        },
        {
          "output_type": "stream",
          "text": [
            "LogisticRegression\n",
            "              precision    recall  f1-score   support\n",
            "\n",
            "         ham       0.70      1.00      0.82     17187\n",
            "        spam       1.00      0.51      0.68     15428\n",
            "\n",
            "    accuracy                           0.77     32615\n",
            "   macro avg       0.85      0.76      0.75     32615\n",
            "weighted avg       0.84      0.77      0.75     32615\n",
            "\n"
          ],
          "name": "stdout"
        }
      ]
    },
    {
      "cell_type": "markdown",
      "metadata": {
        "id": "AdypJ2Pypl-G",
        "colab_type": "text"
      },
      "source": [
        "Lets test LogisticRegression"
      ]
    },
    {
      "cell_type": "code",
      "metadata": {
        "id": "KbNHeY2xhYrb",
        "colab_type": "code",
        "colab": {
          "base_uri": "https://localhost:8080/",
          "height": 90
        },
        "outputId": "fb71b80f-109b-4c0e-93da-fd1cb0e7ccf7"
      },
      "source": [
        "lr = LogisticRegression(random_state=0)\n",
        "lr.fit(X_train,y_train)\n",
        "y_pred = lr.predict(X_test)\n",
        "print(lr.predict(vectorizer.transform([\"hi how are you office\"])))"
      ],
      "execution_count": 8,
      "outputs": [
        {
          "output_type": "stream",
          "text": [
            "/usr/local/lib/python3.6/dist-packages/sklearn/linear_model/logistic.py:432: FutureWarning: Default solver will be changed to 'lbfgs' in 0.22. Specify a solver to silence this warning.\n",
            "  FutureWarning)\n"
          ],
          "name": "stderr"
        },
        {
          "output_type": "stream",
          "text": [
            "['ham']\n"
          ],
          "name": "stdout"
        }
      ]
    },
    {
      "cell_type": "code",
      "metadata": {
        "id": "kahz938ohZ7r",
        "colab_type": "code",
        "colab": {
          "base_uri": "https://localhost:8080/",
          "height": 34
        },
        "outputId": "8d52c04b-2993-44aa-b8f5-4be720ade54f"
      },
      "source": [
        "print(lr.predict(vectorizer.transform([\"Buy Viagra instant cheap easy\"])))"
      ],
      "execution_count": 9,
      "outputs": [
        {
          "output_type": "stream",
          "text": [
            "['ham']\n"
          ],
          "name": "stdout"
        }
      ]
    },
    {
      "cell_type": "markdown",
      "metadata": {
        "id": "1w2D9wdNheDZ",
        "colab_type": "text"
      },
      "source": [
        "As you can see, the perfomance is very poor"
      ]
    }
  ]
}